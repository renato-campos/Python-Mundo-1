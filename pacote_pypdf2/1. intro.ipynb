{
 "cells": [
  {
   "cell_type": "code",
   "execution_count": 4,
   "metadata": {},
   "outputs": [
    {
     "name": "stdout",
     "output_type": "stream",
     "text": [
      "Collecting PyPDF2\n",
      "  Using cached pypdf2-3.0.1-py3-none-any.whl (232 kB)\n",
      "Installing collected packages: PyPDF2\n",
      "Successfully installed PyPDF2-3.0.1\n"
     ]
    }
   ],
   "source": [
    "#! pip install PyPDF2"
   ]
  },
  {
   "cell_type": "code",
   "execution_count": 1,
   "metadata": {},
   "outputs": [],
   "source": [
    "from pathlib import Path\n",
    "from PyPDF2 import PdfReader"
   ]
  },
  {
   "cell_type": "code",
   "execution_count": 13,
   "metadata": {},
   "outputs": [],
   "source": [
    "entrada = Path('data')\n",
    "lista_arquivos = [arquivo for arquivo in entrada.iterdir() if arquivo.suffix == '.pdf']\n",
    "lista_arquivos.sort()"
   ]
  },
  {
   "cell_type": "code",
   "execution_count": 15,
   "metadata": {},
   "outputs": [
    {
     "name": "stdout",
     "output_type": "stream",
     "text": [
      "2\n"
     ]
    }
   ],
   "source": [
    "reader = PdfReader(lista_arquivos[2])       # carregando o arquivo para leitura\n",
    "print(len(reader.pages))                    # retorna o número de páginas"
   ]
  },
  {
   "cell_type": "code",
   "execution_count": 16,
   "metadata": {},
   "outputs": [
    {
     "name": "stdout",
     "output_type": "stream",
     "text": [
      "{'/Producer': 'cairo 1.17.4 (https://cairographics.org)', '/Creator': 'Mozilla Thunderbird 115.6.0', '/CreationDate': \"D:20240116172619-03'00\"}\n",
      "None\n",
      "None\n",
      "2024-01-16 17:26:19-03:00\n",
      "D:20240116172619-03'00\n",
      "None\n",
      "None\n",
      "cairo 1.17.4 (https://cairographics.org)\n",
      "None\n",
      "None\n",
      "None\n"
     ]
    }
   ],
   "source": [
    "# obtendo os metadados\n",
    "meta = reader.metadata\n",
    "print(meta)\n",
    "print(meta.author)\n",
    "print(meta.author_raw)\n",
    "print(meta.creation_date)\n",
    "print(meta.creation_date_raw)\n",
    "print(meta.modification_date)\n",
    "print(meta.modification_date_raw)\n",
    "print(meta.producer)\n",
    "print(meta.xmp_metadata)\n",
    "print(meta.title)\n",
    "print(meta.subject)\n",
    "del meta"
   ]
  },
  {
   "cell_type": "code",
   "execution_count": 27,
   "metadata": {},
   "outputs": [
    {
     "name": "stdout",
     "output_type": "stream",
     "text": [
      "Assunto: COMUNICAÇÃO DE OCORRÊNCIAS\n",
      "De: \"itanhaem.dise (INTRANET)\" <itanhaem.dise@policia-civ.sp.gov.br>\n",
      "Data: 16/01/2024, 17:19\n",
      "Para: \"itanhaem.sec\" <itanhaem.sec@policia-civ.sp.gov.br>, CEPOL - 02 <cepol@policia-\n",
      "civ.sp.gov.br>, santos.cepol@policia-civ.sp.gov.br\n",
      "16/01/2024  17:12  msg/14\n",
      "UNIDADE DO REGISTRO: DISE ITANHAÉM\n",
      "AS9997-1/2024\n",
      "Flagrante\n",
      "L 11343/06 - Entorpecentes\n",
      "Natureza: Drogas sem autorização ou em desacordo (Art.33, caput)\n",
      "LOCAL DO FATO  : Rua João Marcelino Tedsar, 1, - Jardim Veneza  - PERUIBE - SP - SP\n",
      "Ocorrência: Comunicação: 16/01/2024 às 13:00 16/01/2024 às 14:28 \n",
      "- Indiciado: - Rafael Santana Dos Santos RG 62719540\n",
      "CONDUTOR:   Anderson Alves - POLICIAL CIVIL\n",
      "TESTEMUNHA: Reginaldo Guatura Nardes - POLICIAL CIVIL\n",
      "Entorpecentes:\n",
      " 16 PEDRAS DE CRACK PESANDO 12 GRAMAS LACRE 6271301\n",
      "4 TROUXINHAS DE MACONHA PESANDO 13 GRAMAS LACRE 6270202\n",
      "28 EPPENDORFS DE COCAÍNA PESANDO 41 GRAMAS LACRE 6270204\n",
      "HISTÓRICO:\n",
      "Na data de hoje os policiais desta especializada se dirigiram até a \"Biqueira do Caixote _ Jd.\n",
      "Veneza, no Município de Peruíbe, em viatura descaracterizada, e viram um indivíduo na Rua João\n",
      "Marcelino tedsar, quando observaram um indivíduo próximo a mata, sendo que transeunte se\n",
      "aproximavam entregavam dinheiro e este indivíduo re�rava da sacola que estava em sua mão e\n",
      "entrega o entorpecente . Que, o indivíduo ao avistar o carro fez sinal chamando-os e ao se\n",
      "aproximar o indivíduo abriu a sacola e ofereceu entorpecente ao condutor, momento em que\n",
      "recebeu a voz de prisão, sendo o mesmo preso, bem como as substâncias entorpecentes e\n",
      "dinheiro apreendidos. Que foi localizado no interior da sacola, R$ 12,00 (doze reais) 16 pedras de\n",
      "crack, quatro trouxinhas de maconha e 28 eependorﬀs de cocaína, drogas embaladas em\n",
      "pequenas porções para venda e dinheiro em moedas de pequeno valor caracterís�cas do tráﬁco. O\n",
      "indivíduo não portava documentos mas iden�ﬁcou como RAFAEL SANTANA DOS SANTOS, e\n",
      "confessou que estava traﬁcando informalmente. O preso , bem como os entorpecentes e dinheiro\n",
      "foram apresentados a esta Autoridade signatária, a qual ra�ﬁcou a voz de prisão em ﬂagrante e\n",
      "determinou a lavratura do APDF. Com relação ao peso dos entorpecentes , informo que foram\n",
      "apreendidos no caso em tela e colocados na balança com saco e lacre, sendo o peso do\n",
      ">>> fim da página <<<\n",
      "entorpecente é bruto, e ainda saliento que os equipamentos (balança digital) não são precisos.\n",
      "Nada mais.\n",
      "--\n",
      ">>> fim da página <<<\n"
     ]
    }
   ],
   "source": [
    "# lendo e exibindo o conteúdo\n",
    "for page in reader.pages:\n",
    "    print(page.extract_text())\n",
    "    print(f'>>> fim da página <<<')"
   ]
  },
  {
   "cell_type": "code",
   "execution_count": 21,
   "metadata": {},
   "outputs": [],
   "source": [
    "from PyPDF2 import PdfReader, PdfWriter"
   ]
  },
  {
   "cell_type": "code",
   "execution_count": 28,
   "metadata": {},
   "outputs": [],
   "source": [
    "# adicionando as páginas para escrita\n",
    "writer = PdfWriter()\n",
    "\n",
    "for page in reader.pages:\n",
    "    writer.add_page(page)"
   ]
  },
  {
   "cell_type": "code",
   "execution_count": 29,
   "metadata": {},
   "outputs": [
    {
     "name": "stdout",
     "output_type": "stream",
     "text": [
      "<PyPDF2._writer.PdfWriter object at 0x000001B16267A1E0>\n"
     ]
    }
   ],
   "source": [
    "print(writer)"
   ]
  },
  {
   "cell_type": "code",
   "execution_count": 36,
   "metadata": {},
   "outputs": [],
   "source": [
    "# adicionando senha ao arquivo pdf\n",
    "writer.encrypt('senha')"
   ]
  },
  {
   "cell_type": "code",
   "execution_count": 37,
   "metadata": {},
   "outputs": [],
   "source": [
    "# salvando o arquivo\n",
    "with open('com_senha.pdf', 'wb') as arq:\n",
    "    writer.write(arq)"
   ]
  },
  {
   "cell_type": "code",
   "execution_count": 38,
   "metadata": {},
   "outputs": [],
   "source": [
    "# carregando arquivo\n",
    "reader = PdfReader('com_senha.pdf')\n",
    "writer = PdfWriter()"
   ]
  },
  {
   "cell_type": "code",
   "execution_count": 39,
   "metadata": {},
   "outputs": [],
   "source": [
    "# verificando se arquivo é protegido\n",
    "if reader.is_encrypted:\n",
    "    reader.decrypt('senha')"
   ]
  },
  {
   "cell_type": "code",
   "execution_count": 40,
   "metadata": {},
   "outputs": [
    {
     "name": "stdout",
     "output_type": "stream",
     "text": [
      "Assunto: COMUNICAÇÃO DE OCORRÊNCIAS\n",
      "De: \"itanhaem.dise (INTRANET)\" <itanhaem.dise@policia-civ.sp.gov.br>\n",
      "Data: 16/01/2024, 17:19\n",
      "Para: \"itanhaem.sec\" <itanhaem.sec@policia-civ.sp.gov.br>, CEPOL - 02 <cepol@policia-\n",
      "civ.sp.gov.br>, santos.cepol@policia-civ.sp.gov.br\n",
      "16/01/2024  17:12  msg/14\n",
      "UNIDADE DO REGISTRO: DISE ITANHAÉM\n",
      "AS9997-1/2024\n",
      "Flagrante\n",
      "L 11343/06 - Entorpecentes\n",
      "Natureza: Drogas sem autorização ou em desacordo (Art.33, caput)\n",
      "LOCAL DO FATO  : Rua João Marcelino Tedsar, 1, - Jardim Veneza  - PERUIBE - SP - SP\n",
      "Ocorrência: Comunicação: 16/01/2024 às 13:00 16/01/2024 às 14:28 \n",
      "- Indiciado: - Rafael Santana Dos Santos RG 62719540\n",
      "CONDUTOR:   Anderson Alves - POLICIAL CIVIL\n",
      "TESTEMUNHA: Reginaldo Guatura Nardes - POLICIAL CIVIL\n",
      "Entorpecentes:\n",
      " 16 PEDRAS DE CRACK PESANDO 12 GRAMAS LACRE 6271301\n",
      "4 TROUXINHAS DE MACONHA PESANDO 13 GRAMAS LACRE 6270202\n",
      "28 EPPENDORFS DE COCAÍNA PESANDO 41 GRAMAS LACRE 6270204\n",
      "HISTÓRICO:\n",
      "Na data de hoje os policiais desta especializada se dirigiram até a \"Biqueira do Caixote _ Jd.\n",
      "Veneza, no Município de Peruíbe, em viatura descaracterizada, e viram um indivíduo na Rua João\n",
      "Marcelino tedsar, quando observaram um indivíduo próximo a mata, sendo que transeunte se\n",
      "aproximavam entregavam dinheiro e este indivíduo re�rava da sacola que estava em sua mão e\n",
      "entrega o entorpecente . Que, o indivíduo ao avistar o carro fez sinal chamando-os e ao se\n",
      "aproximar o indivíduo abriu a sacola e ofereceu entorpecente ao condutor, momento em que\n",
      "recebeu a voz de prisão, sendo o mesmo preso, bem como as substâncias entorpecentes e\n",
      "dinheiro apreendidos. Que foi localizado no interior da sacola, R$ 12,00 (doze reais) 16 pedras de\n",
      "crack, quatro trouxinhas de maconha e 28 eependorﬀs de cocaína, drogas embaladas em\n",
      "pequenas porções para venda e dinheiro em moedas de pequeno valor caracterís�cas do tráﬁco. O\n",
      "indivíduo não portava documentos mas iden�ﬁcou como RAFAEL SANTANA DOS SANTOS, e\n",
      "confessou que estava traﬁcando informalmente. O preso , bem como os entorpecentes e dinheiro\n",
      "foram apresentados a esta Autoridade signatária, a qual ra�ﬁcou a voz de prisão em ﬂagrante e\n",
      "determinou a lavratura do APDF. Com relação ao peso dos entorpecentes , informo que foram\n",
      "apreendidos no caso em tela e colocados na balança com saco e lacre, sendo o peso do\n",
      "entorpecente é bruto, e ainda saliento que os equipamentos (balança digital) não são precisos.\n",
      "Nada mais.\n",
      "--\n"
     ]
    }
   ],
   "source": [
    "for page in reader.pages:\n",
    "    print(page.extract_text())"
   ]
  }
 ],
 "metadata": {
  "kernelspec": {
   "display_name": "Python 3",
   "language": "python",
   "name": "python3"
  },
  "language_info": {
   "codemirror_mode": {
    "name": "ipython",
    "version": 3
   },
   "file_extension": ".py",
   "mimetype": "text/x-python",
   "name": "python",
   "nbconvert_exporter": "python",
   "pygments_lexer": "ipython3",
   "version": "3.12.1"
  }
 },
 "nbformat": 4,
 "nbformat_minor": 2
}

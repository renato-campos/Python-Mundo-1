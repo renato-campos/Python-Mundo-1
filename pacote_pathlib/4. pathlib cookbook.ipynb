{
 "cells": [
  {
   "cell_type": "code",
   "execution_count": 1,
   "metadata": {},
   "outputs": [],
   "source": [
    "from pathlib import Path"
   ]
  },
  {
   "cell_type": "markdown",
   "metadata": {},
   "source": [
    "O módulo `pathlib` veio como alternativa ao `os` para manipular caminho de diretórios. O `os` tratava os caminhos como strings e o `pathlib` trata como objetos."
   ]
  },
  {
   "cell_type": "code",
   "execution_count": 59,
   "metadata": {},
   "outputs": [],
   "source": [
    "caminho = Path(r'C:\\Users\\Renato\\Desktop\\Mensagens\\2020\\01 - JANEIRO\\MSG 0001-20 - BO 002.2020 - VIOLÊNCIA DOMESTICA - AMEAÇA - INCENDIO - SD BERTIOGA.pdf')\n"
   ]
  },
  {
   "cell_type": "code",
   "execution_count": 60,
   "metadata": {},
   "outputs": [
    {
     "name": "stdout",
     "output_type": "stream",
     "text": [
      "1 C:\n",
      "2 \\\n",
      "3 C:\\\n",
      "4 C:\\Users\\Renato\\Desktop\\Mensagens\\2020\\01 - JANEIRO\n",
      "5 C:\\Users\\Renato\\Desktop\\Mensagens\\2020\n",
      "6 MSG 0001-20 - BO 002.2020 - VIOLÊNCIA DOMESTICA - AMEAÇA - INCENDIO - SD BERTIOGA.pdf\n",
      "7 MSG 0001-20 - BO 002.2020 - VIOLÊNCIA DOMESTICA - AMEAÇA - INCENDIO - SD BERTIOGA\n",
      "8 .pdf\n",
      "9 ['.2020 - VIOLÊNCIA DOMESTICA - AMEAÇA - INCENDIO - SD BERTIOGA', '.pdf']\n"
     ]
    }
   ],
   "source": [
    "print(1, caminho.drive)\n",
    "print(2, caminho.root)\n",
    "print(3, caminho.anchor)\n",
    "print(4, caminho.parent)\n",
    "print(5, caminho.parent.parent)\n",
    "print(6, caminho.name)          # nome do arquivo\n",
    "print(7, caminho.stem)          # nome do arquivo sem a extensão\n",
    "print(8, caminho.suffix)        # extensão do arquivo\n",
    "print(9, caminho.suffixes)      # cuidado com pontos dentro do nome\n"
   ]
  },
  {
   "cell_type": "code",
   "execution_count": 29,
   "metadata": {},
   "outputs": [
    {
     "name": "stdout",
     "output_type": "stream",
     "text": [
      "C:\\Users\\Renato\\Desktop\\Mensagens\\2020\\01 - JANEIRO\n"
     ]
    },
    {
     "data": {
      "text/plain": [
       "'C:\\\\Users\\\\Renato\\\\Desktop\\\\Mensagens\\\\2020\\\\01 - JANEIRO'"
      ]
     },
     "execution_count": 29,
     "metadata": {},
     "output_type": "execute_result"
    }
   ],
   "source": [
    "print(str(caminho.parent))\n",
    "str(caminho.parent)"
   ]
  },
  {
   "cell_type": "code",
   "execution_count": 30,
   "metadata": {},
   "outputs": [
    {
     "name": "stdout",
     "output_type": "stream",
     "text": [
      "WindowsPath('C:/Users/Renato/Desktop/Mensagens/2020/01 - JANEIRO')\n"
     ]
    },
    {
     "data": {
      "text/plain": [
       "\"WindowsPath('C:/Users/Renato/Desktop/Mensagens/2020/01 - JANEIRO')\""
      ]
     },
     "execution_count": 30,
     "metadata": {},
     "output_type": "execute_result"
    }
   ],
   "source": [
    "repr(caminho.parent)"
   ]
  },
  {
   "cell_type": "markdown",
   "metadata": {},
   "source": [
    "### Criando Paths"
   ]
  },
  {
   "cell_type": "code",
   "execution_count": 31,
   "metadata": {},
   "outputs": [
    {
     "data": {
      "text/plain": [
       "WindowsPath('C:/Users/Renato/Desktop')"
      ]
     },
     "execution_count": 31,
     "metadata": {},
     "output_type": "execute_result"
    }
   ],
   "source": [
    "Path('C:', '/', 'Users/Renato', 'Desktop')"
   ]
  },
  {
   "cell_type": "code",
   "execution_count": 33,
   "metadata": {},
   "outputs": [
    {
     "data": {
      "text/plain": [
       "WindowsPath('C:/Users/Renato/Desktop/Mensagens')"
      ]
     },
     "execution_count": 33,
     "metadata": {},
     "output_type": "execute_result"
    }
   ],
   "source": [
    "Path('C:', '/', 'Users/Renato', 'Desktop') / 'Mensagens'"
   ]
  },
  {
   "cell_type": "code",
   "execution_count": 34,
   "metadata": {},
   "outputs": [
    {
     "data": {
      "text/plain": [
       "WindowsPath('C:/Users/Renato/Desktop/Mensagens')"
      ]
     },
     "execution_count": 34,
     "metadata": {},
     "output_type": "execute_result"
    }
   ],
   "source": [
    "Path('C:', '/', 'Users/Renato', 'Desktop').joinpath('Mensagens')"
   ]
  },
  {
   "cell_type": "markdown",
   "metadata": {},
   "source": [
    "### Trabalhando com diretórios"
   ]
  },
  {
   "cell_type": "code",
   "execution_count": 36,
   "metadata": {},
   "outputs": [
    {
     "data": {
      "text/plain": [
       "WindowsPath('d:/Projetos/Python-learning/pacote_pathlib')"
      ]
     },
     "execution_count": 36,
     "metadata": {},
     "output_type": "execute_result"
    }
   ],
   "source": [
    "# diretório atual\n",
    "Path.cwd()"
   ]
  },
  {
   "cell_type": "code",
   "execution_count": 39,
   "metadata": {},
   "outputs": [
    {
     "name": "stdout",
     "output_type": "stream",
     "text": [
      "O caminho em uso é: d:\\Projetos\\Python-learning\\pacote_pathlib\n"
     ]
    }
   ],
   "source": [
    "print(f'O caminho em uso é: {Path.cwd()}')"
   ]
  },
  {
   "cell_type": "code",
   "execution_count": 40,
   "metadata": {},
   "outputs": [
    {
     "data": {
      "text/plain": [
       "WindowsPath('C:/Users/Renato')"
      ]
     },
     "execution_count": 40,
     "metadata": {},
     "output_type": "execute_result"
    }
   ],
   "source": [
    "# diretório home do usuário\n",
    "Path.home()"
   ]
  },
  {
   "cell_type": "code",
   "execution_count": 43,
   "metadata": {},
   "outputs": [
    {
     "name": "stdout",
     "output_type": "stream",
     "text": [
      "~\\Desktop\n"
     ]
    },
    {
     "data": {
      "text/plain": [
       "WindowsPath('C:/Users/Renato/Desktop')"
      ]
     },
     "execution_count": 43,
     "metadata": {},
     "output_type": "execute_result"
    }
   ],
   "source": [
    "caminho = Path('~/Desktop')\n",
    "print(str(caminho))\n",
    "caminho.expanduser()"
   ]
  },
  {
   "cell_type": "code",
   "execution_count": 47,
   "metadata": {},
   "outputs": [
    {
     "data": {
      "text/plain": [
       "True"
      ]
     },
     "execution_count": 47,
     "metadata": {},
     "output_type": "execute_result"
    }
   ],
   "source": [
    "Path('~').expanduser() == Path.home()"
   ]
  },
  {
   "cell_type": "code",
   "execution_count": 44,
   "metadata": {},
   "outputs": [
    {
     "data": {
      "text/plain": [
       "False"
      ]
     },
     "execution_count": 44,
     "metadata": {},
     "output_type": "execute_result"
    }
   ],
   "source": [
    "caminho.exists()"
   ]
  },
  {
   "cell_type": "code",
   "execution_count": 45,
   "metadata": {},
   "outputs": [
    {
     "data": {
      "text/plain": [
       "True"
      ]
     },
     "execution_count": 45,
     "metadata": {},
     "output_type": "execute_result"
    }
   ],
   "source": [
    "caminho.expanduser().exists()"
   ]
  },
  {
   "cell_type": "markdown",
   "metadata": {},
   "source": [
    "### Criando diretórios"
   ]
  },
  {
   "cell_type": "code",
   "execution_count": 51,
   "metadata": {},
   "outputs": [],
   "source": [
    "caminho = Path('pasta')"
   ]
  },
  {
   "cell_type": "code",
   "execution_count": 52,
   "metadata": {},
   "outputs": [
    {
     "data": {
      "text/plain": [
       "False"
      ]
     },
     "execution_count": 52,
     "metadata": {},
     "output_type": "execute_result"
    }
   ],
   "source": [
    "caminho.exists()"
   ]
  },
  {
   "cell_type": "code",
   "execution_count": 62,
   "metadata": {},
   "outputs": [],
   "source": [
    "caminho.mkdir(exist_ok=True)"
   ]
  },
  {
   "cell_type": "code",
   "execution_count": 56,
   "metadata": {},
   "outputs": [
    {
     "data": {
      "text/plain": [
       "True"
      ]
     },
     "execution_count": 56,
     "metadata": {},
     "output_type": "execute_result"
    }
   ],
   "source": [
    "caminho.exists()"
   ]
  },
  {
   "cell_type": "code",
   "execution_count": 80,
   "metadata": {},
   "outputs": [
    {
     "data": {
      "text/plain": [
       "[WindowsPath('d:/Projetos/Python-learning/pacote_pathlib/1. pathlib eduardo marques.ipynb'),\n",
       " WindowsPath('d:/Projetos/Python-learning/pacote_pathlib/2. pathlib otávio miranda.py'),\n",
       " WindowsPath('d:/Projetos/Python-learning/pacote_pathlib/3. Exemplos da documentação.ipynb'),\n",
       " WindowsPath('d:/Projetos/Python-learning/pacote_pathlib/4. pathlib cookbook.ipynb'),\n",
       " WindowsPath('d:/Projetos/Python-learning/pacote_pathlib/pasta'),\n",
       " WindowsPath('d:/Projetos/Python-learning/pacote_pathlib/pasta1')]"
      ]
     },
     "execution_count": 80,
     "metadata": {},
     "output_type": "execute_result"
    }
   ],
   "source": [
    "list(Path.cwd().iterdir())"
   ]
  },
  {
   "cell_type": "code",
   "execution_count": 81,
   "metadata": {},
   "outputs": [
    {
     "data": {
      "text/plain": [
       "<generator object Path.iterdir at 0x000001E1C57864D0>"
      ]
     },
     "execution_count": 81,
     "metadata": {},
     "output_type": "execute_result"
    }
   ],
   "source": [
    "Path.home().iterdir()"
   ]
  },
  {
   "cell_type": "code",
   "execution_count": 82,
   "metadata": {},
   "outputs": [
    {
     "name": "stdout",
     "output_type": "stream",
     "text": [
      "C:\\Users\\Renato\\.bash_history\n",
      "C:\\Users\\Renato\\.git-for-windows-updater\n",
      "C:\\Users\\Renato\\.gitconfig\n",
      "C:\\Users\\Renato\\.ipython\n",
      "C:\\Users\\Renato\\.minttyrc\n",
      "C:\\Users\\Renato\\.ms-ad\n",
      "C:\\Users\\Renato\\.ssh\n",
      "C:\\Users\\Renato\\.vscode\n",
      "C:\\Users\\Renato\\Ambiente de Impressão\n",
      "C:\\Users\\Renato\\Ambiente de Rede\n",
      "C:\\Users\\Renato\\AppData\n",
      "C:\\Users\\Renato\\Configurações Locais\n",
      "C:\\Users\\Renato\\Contacts\n",
      "C:\\Users\\Renato\\Cookies\n",
      "C:\\Users\\Renato\\Dados de Aplicativos\n",
      "C:\\Users\\Renato\\Desktop\n",
      "C:\\Users\\Renato\\Documents\n",
      "C:\\Users\\Renato\\Downloads\n",
      "C:\\Users\\Renato\\Favorites\n",
      "C:\\Users\\Renato\\IntelGraphicsProfiles\n",
      "C:\\Users\\Renato\\Links\n",
      "C:\\Users\\Renato\\Menu Iniciar\n",
      "C:\\Users\\Renato\\Meus Documentos\n",
      "C:\\Users\\Renato\\Modelos\n",
      "C:\\Users\\Renato\\Music\n",
      "C:\\Users\\Renato\\NTUSER.DAT\n",
      "C:\\Users\\Renato\\ntuser.dat.LOG1\n",
      "C:\\Users\\Renato\\ntuser.dat.LOG2\n",
      "C:\\Users\\Renato\\NTUSER.DAT{a2332f18-cdbf-11ec-8680-002248483d79}.TM.blf\n",
      "C:\\Users\\Renato\\NTUSER.DAT{a2332f18-cdbf-11ec-8680-002248483d79}.TMContainer00000000000000000001.regtrans-ms\n",
      "C:\\Users\\Renato\\NTUSER.DAT{a2332f18-cdbf-11ec-8680-002248483d79}.TMContainer00000000000000000002.regtrans-ms\n",
      "C:\\Users\\Renato\\ntuser.ini\n",
      "C:\\Users\\Renato\\Pictures\n",
      "C:\\Users\\Renato\\Recent\n",
      "C:\\Users\\Renato\\Saved Games\n",
      "C:\\Users\\Renato\\Searches\n",
      "C:\\Users\\Renato\\SendTo\n",
      "C:\\Users\\Renato\\Videos\n"
     ]
    }
   ],
   "source": [
    "for obj in Path.home().iterdir():\n",
    "    print(obj)"
   ]
  },
  {
   "cell_type": "markdown",
   "metadata": {},
   "source": [
    "### Cria todas as pastas do caminho"
   ]
  },
  {
   "cell_type": "code",
   "execution_count": 50,
   "metadata": {},
   "outputs": [],
   "source": [
    "caminho = Path.cwd()/'pasta1'/'pasta2'/'pasta3'\n",
    "caminho.mkdir(parents=True, exist_ok=True)"
   ]
  },
  {
   "cell_type": "markdown",
   "metadata": {},
   "source": [
    "### Listando todos os arquivos do diretório"
   ]
  },
  {
   "cell_type": "code",
   "execution_count": 13,
   "metadata": {},
   "outputs": [
    {
     "name": "stdout",
     "output_type": "stream",
     "text": [
      "<generator object Path.iterdir at 0x0000019A6DDEE190>\n"
     ]
    },
    {
     "data": {
      "text/plain": [
       "[WindowsPath('d:/Projetos/Python-learning/pacote_pathlib/1. pathlib eduardo marques.ipynb'),\n",
       " WindowsPath('d:/Projetos/Python-learning/pacote_pathlib/2. pathlib otávio miranda.py'),\n",
       " WindowsPath('d:/Projetos/Python-learning/pacote_pathlib/3. Exemplos da documentação.ipynb'),\n",
       " WindowsPath('d:/Projetos/Python-learning/pacote_pathlib/4. pathlib cookbook.ipynb'),\n",
       " WindowsPath('d:/Projetos/Python-learning/pacote_pathlib/pasta'),\n",
       " WindowsPath('d:/Projetos/Python-learning/pacote_pathlib/pasta1')]"
      ]
     },
     "execution_count": 13,
     "metadata": {},
     "output_type": "execute_result"
    }
   ],
   "source": [
    "# esse método retorna um iterável que você iterar sobre ou converter em lista\n",
    "caminho = Path.cwd()\n",
    "print(caminho.iterdir())\n",
    "lista = list(caminho.iterdir())\n",
    "lista"
   ]
  },
  {
   "cell_type": "code",
   "execution_count": 14,
   "metadata": {},
   "outputs": [
    {
     "name": "stdout",
     "output_type": "stream",
     "text": [
      "d:\\Projetos\\Python-learning\\pacote_pathlib\\1. pathlib eduardo marques.ipynb\n",
      "d:\\Projetos\\Python-learning\\pacote_pathlib\\2. pathlib otávio miranda.py\n",
      "d:\\Projetos\\Python-learning\\pacote_pathlib\\3. Exemplos da documentação.ipynb\n",
      "d:\\Projetos\\Python-learning\\pacote_pathlib\\4. pathlib cookbook.ipynb\n",
      "d:\\Projetos\\Python-learning\\pacote_pathlib\\pasta\n",
      "d:\\Projetos\\Python-learning\\pacote_pathlib\\pasta1\n"
     ]
    }
   ],
   "source": [
    "for obj in caminho.iterdir():\n",
    "    print(obj)"
   ]
  },
  {
   "cell_type": "markdown",
   "metadata": {},
   "source": [
    "### Verificando se é diretório"
   ]
  },
  {
   "cell_type": "code",
   "execution_count": 15,
   "metadata": {},
   "outputs": [
    {
     "name": "stdout",
     "output_type": "stream",
     "text": [
      "d:\\Projetos\\Python-learning\\pacote_pathlib\\pasta\n",
      "d:\\Projetos\\Python-learning\\pacote_pathlib\\pasta1\n"
     ]
    }
   ],
   "source": [
    "for obj in caminho.iterdir():\n",
    "    if obj.is_dir(): \n",
    "        print(obj)"
   ]
  },
  {
   "cell_type": "code",
   "execution_count": 16,
   "metadata": {},
   "outputs": [
    {
     "data": {
      "text/plain": [
       "[WindowsPath('d:/Projetos/Python-learning/pacote_pathlib/pasta'),\n",
       " WindowsPath('d:/Projetos/Python-learning/pacote_pathlib/pasta1')]"
      ]
     },
     "execution_count": 16,
     "metadata": {},
     "output_type": "execute_result"
    }
   ],
   "source": [
    "[obj for obj in caminho.iterdir() if obj.is_dir()]"
   ]
  },
  {
   "cell_type": "markdown",
   "metadata": {},
   "source": [
    "### Outro método de navegar por toda a árvore de diretórios"
   ]
  },
  {
   "cell_type": "code",
   "execution_count": 17,
   "metadata": {},
   "outputs": [
    {
     "data": {
      "text/plain": [
       "[WindowsPath('d:/Projetos/Python-learning/pacote_pathlib/1. pathlib eduardo marques.ipynb'),\n",
       " WindowsPath('d:/Projetos/Python-learning/pacote_pathlib/2. pathlib otávio miranda.py'),\n",
       " WindowsPath('d:/Projetos/Python-learning/pacote_pathlib/3. Exemplos da documentação.ipynb'),\n",
       " WindowsPath('d:/Projetos/Python-learning/pacote_pathlib/4. pathlib cookbook.ipynb'),\n",
       " WindowsPath('d:/Projetos/Python-learning/pacote_pathlib/pasta'),\n",
       " WindowsPath('d:/Projetos/Python-learning/pacote_pathlib/pasta1')]"
      ]
     },
     "execution_count": 17,
     "metadata": {},
     "output_type": "execute_result"
    }
   ],
   "source": [
    "lista = list(caminho.glob('*'))\n",
    "lista"
   ]
  },
  {
   "cell_type": "code",
   "execution_count": 18,
   "metadata": {},
   "outputs": [
    {
     "data": {
      "text/plain": [
       "[WindowsPath('d:/Projetos/Python-learning/pacote_pathlib/pasta'),\n",
       " WindowsPath('d:/Projetos/Python-learning/pacote_pathlib/pasta1')]"
      ]
     },
     "execution_count": 18,
     "metadata": {},
     "output_type": "execute_result"
    }
   ],
   "source": [
    "[obj for obj in caminho.glob('*') if obj.is_dir()]"
   ]
  },
  {
   "cell_type": "code",
   "execution_count": 19,
   "metadata": {},
   "outputs": [
    {
     "data": {
      "text/plain": [
       "[WindowsPath('d:/Projetos/Python-learning/pacote_pathlib/pasta'),\n",
       " WindowsPath('d:/Projetos/Python-learning/pacote_pathlib/pasta1'),\n",
       " WindowsPath('d:/Projetos/Python-learning/pacote_pathlib/pasta1/pasta2'),\n",
       " WindowsPath('d:/Projetos/Python-learning/pacote_pathlib/pasta1/pasta2/pasta3')]"
      ]
     },
     "execution_count": 19,
     "metadata": {},
     "output_type": "execute_result"
    }
   ],
   "source": [
    "[obj for obj in caminho.glob('**/*') if obj.is_dir()]"
   ]
  },
  {
   "cell_type": "code",
   "execution_count": 20,
   "metadata": {},
   "outputs": [
    {
     "data": {
      "text/plain": [
       "[WindowsPath('d:/Projetos/Python-learning/pacote_pathlib/pasta'),\n",
       " WindowsPath('d:/Projetos/Python-learning/pacote_pathlib/pasta1'),\n",
       " WindowsPath('d:/Projetos/Python-learning/pacote_pathlib/pasta1/pasta2'),\n",
       " WindowsPath('d:/Projetos/Python-learning/pacote_pathlib/pasta1/pasta2/pasta3')]"
      ]
     },
     "execution_count": 20,
     "metadata": {},
     "output_type": "execute_result"
    }
   ],
   "source": [
    "[obj for obj in caminho.rglob('*') if obj.is_dir()]"
   ]
  },
  {
   "cell_type": "markdown",
   "metadata": {},
   "source": [
    "### Como listar apenas os arquivos"
   ]
  },
  {
   "cell_type": "code",
   "execution_count": 21,
   "metadata": {},
   "outputs": [
    {
     "name": "stdout",
     "output_type": "stream",
     "text": [
      "d:\\Projetos\\Python-learning\\pacote_pathlib\\1. pathlib eduardo marques.ipynb\n",
      "d:\\Projetos\\Python-learning\\pacote_pathlib\\2. pathlib otávio miranda.py\n",
      "d:\\Projetos\\Python-learning\\pacote_pathlib\\3. Exemplos da documentação.ipynb\n",
      "d:\\Projetos\\Python-learning\\pacote_pathlib\\4. pathlib cookbook.ipynb\n"
     ]
    }
   ],
   "source": [
    "for obj in caminho.iterdir():       # apenas no diretório corrente\n",
    "    if obj.is_file():\n",
    "        print(obj)"
   ]
  },
  {
   "cell_type": "code",
   "execution_count": 22,
   "metadata": {},
   "outputs": [
    {
     "data": {
      "text/plain": [
       "[WindowsPath('d:/Projetos/Python-learning/pacote_pathlib/1. pathlib eduardo marques.ipynb'),\n",
       " WindowsPath('d:/Projetos/Python-learning/pacote_pathlib/2. pathlib otávio miranda.py'),\n",
       " WindowsPath('d:/Projetos/Python-learning/pacote_pathlib/3. Exemplos da documentação.ipynb'),\n",
       " WindowsPath('d:/Projetos/Python-learning/pacote_pathlib/4. pathlib cookbook.ipynb')]"
      ]
     },
     "execution_count": 22,
     "metadata": {},
     "output_type": "execute_result"
    }
   ],
   "source": [
    "[obj for obj in caminho.iterdir() if obj.is_file()]"
   ]
  },
  {
   "cell_type": "code",
   "execution_count": 26,
   "metadata": {},
   "outputs": [
    {
     "name": "stdout",
     "output_type": "stream",
     "text": [
      "d:\\Projetos\\Python-learning\\pacote_pathlib\\1. pathlib eduardo marques.ipynb\n",
      "<class 'pathlib.WindowsPath'>\n",
      "d:\\Projetos\\Python-learning\\pacote_pathlib\\2. pathlib otávio miranda.py\n",
      "<class 'pathlib.WindowsPath'>\n",
      "d:\\Projetos\\Python-learning\\pacote_pathlib\\3. Exemplos da documentação.ipynb\n",
      "<class 'pathlib.WindowsPath'>\n",
      "d:\\Projetos\\Python-learning\\pacote_pathlib\\4. pathlib cookbook.ipynb\n",
      "<class 'pathlib.WindowsPath'>\n",
      "d:\\Projetos\\Python-learning\\pacote_pathlib\\pasta\\teste.txt\n",
      "<class 'pathlib.WindowsPath'>\n",
      "d:\\Projetos\\Python-learning\\pacote_pathlib\\pasta1\\pasta2\\pasta3\\Novo(a) Documento de Texto.txt\n",
      "<class 'pathlib.WindowsPath'>\n"
     ]
    }
   ],
   "source": [
    "for obj in caminho.rglob('*'):      # em toda a árvore\n",
    "    if obj.is_file():\n",
    "        print(obj)\n",
    "        print(type(obj))"
   ]
  },
  {
   "cell_type": "code",
   "execution_count": 28,
   "metadata": {},
   "outputs": [
    {
     "data": {
      "text/plain": [
       "[WindowsPath('d:/Projetos/Python-learning/pacote_pathlib/1. pathlib eduardo marques.ipynb'),\n",
       " WindowsPath('d:/Projetos/Python-learning/pacote_pathlib/2. pathlib otávio miranda.py'),\n",
       " WindowsPath('d:/Projetos/Python-learning/pacote_pathlib/3. Exemplos da documentação.ipynb'),\n",
       " WindowsPath('d:/Projetos/Python-learning/pacote_pathlib/4. pathlib cookbook.ipynb'),\n",
       " WindowsPath('d:/Projetos/Python-learning/pacote_pathlib/pasta/teste.txt'),\n",
       " WindowsPath('d:/Projetos/Python-learning/pacote_pathlib/pasta1/pasta2/pasta3/Novo(a) Documento de Texto.txt')]"
      ]
     },
     "execution_count": 28,
     "metadata": {},
     "output_type": "execute_result"
    }
   ],
   "source": [
    "[obj for obj in caminho.rglob('*') if obj.is_file()]\n"
   ]
  },
  {
   "cell_type": "code",
   "execution_count": 30,
   "metadata": {},
   "outputs": [
    {
     "data": {
      "text/plain": [
       "[WindowsPath('d:/Projetos/Python-learning/pacote_pathlib/pasta/teste.txt'),\n",
       " WindowsPath('d:/Projetos/Python-learning/pacote_pathlib/pasta1/pasta2/pasta3/Novo(a) Documento de Texto.txt')]"
      ]
     },
     "execution_count": 30,
     "metadata": {},
     "output_type": "execute_result"
    }
   ],
   "source": [
    "[obj for obj in caminho.rglob('*.txt') if obj.is_file()]"
   ]
  },
  {
   "cell_type": "code",
   "execution_count": 31,
   "metadata": {},
   "outputs": [
    {
     "data": {
      "text/plain": [
       "[WindowsPath('d:/Projetos/Python-learning/pacote_pathlib/pasta/teste.txt'),\n",
       " WindowsPath('d:/Projetos/Python-learning/pacote_pathlib/pasta1/pasta2/pasta3/Novo(a) Documento de Texto.txt')]"
      ]
     },
     "execution_count": 31,
     "metadata": {},
     "output_type": "execute_result"
    }
   ],
   "source": [
    "[obj for obj in caminho.rglob('*') if obj.is_file() and obj.match('*.txt')]"
   ]
  },
  {
   "cell_type": "code",
   "execution_count": 35,
   "metadata": {},
   "outputs": [
    {
     "data": {
      "text/plain": [
       "[WindowsPath('d:/Projetos/Python-learning/pacote_pathlib/2. pathlib otávio miranda.py'),\n",
       " WindowsPath('d:/Projetos/Python-learning/pacote_pathlib/pasta/teste.txt'),\n",
       " WindowsPath('d:/Projetos/Python-learning/pacote_pathlib/pasta1/pasta2/pasta3/Novo(a) Documento de Texto.txt')]"
      ]
     },
     "execution_count": 35,
     "metadata": {},
     "output_type": "execute_result"
    }
   ],
   "source": [
    "[obj for obj in caminho.rglob('*') if obj.is_file() and (obj.match('*.txt') or obj.match('*.py'))]"
   ]
  },
  {
   "cell_type": "markdown",
   "metadata": {},
   "source": [
    "### O `pathlib` não tem um método para trocar de diretório padrão, para isso usamos o `os` em conjunto. Embora não precisemos estar no diretório para trabalhar como ele, usaremos os WindowsPath objetos para trabalhar no diretório desejado. Ao invés de navegar até o diretório desejado, apenas criamos o objeto do caminho final e operamos nele"
   ]
  },
  {
   "cell_type": "code",
   "execution_count": 39,
   "metadata": {},
   "outputs": [
    {
     "name": "stdout",
     "output_type": "stream",
     "text": [
      "d:\\Projetos\\Python-learning\\pacote_pathlib\n"
     ]
    }
   ],
   "source": [
    "print(Path.cwd())       # diretório atual\n",
    "# criar pasta no Desktop sem navegar até ele\n",
    "caminho = Path.home()/'Desktop'     # pronto, já posso manipular a pasta\n",
    "(caminho / 'pasta_nova').mkdir(exist_ok=True)"
   ]
  },
  {
   "cell_type": "markdown",
   "metadata": {},
   "source": [
    "### Apagando diretórios"
   ]
  },
  {
   "cell_type": "code",
   "execution_count": 40,
   "metadata": {},
   "outputs": [],
   "source": [
    "(caminho / 'pasta_nova').rmdir()        # diretório vazio"
   ]
  },
  {
   "cell_type": "markdown",
   "metadata": {},
   "source": [
    "### Apagar diretório com arquivos precisa criar um função"
   ]
  },
  {
   "cell_type": "code",
   "execution_count": 49,
   "metadata": {},
   "outputs": [],
   "source": [
    "def remove_all(root: Path):\n",
    "    for path in root.iterdir():\n",
    "        if path.is_file():\n",
    "            print(f'Deleting the file: {path}')\n",
    "            path.unlink()\n",
    "        else:\n",
    "            remove_all(path)\n",
    "    print(f'Deleting the empty dir: {root}')\n",
    "    root.rmdir()\n",
    "\n",
    "\n",
    "caminho = Path(r'D:\\Projetos\\Python-learning\\pacote_pathlib\\pasta1')\n",
    "if caminho.exists():\n",
    "    remove_all(caminho)"
   ]
  },
  {
   "cell_type": "markdown",
   "metadata": {},
   "source": [
    "### muito embora o uso de `shutil.rmtree(caminho)` seja mais apropriado"
   ]
  },
  {
   "cell_type": "code",
   "execution_count": 66,
   "metadata": {},
   "outputs": [],
   "source": [
    "import shutil\n",
    "\n",
    "caminho = Path(r'D:\\Projetos\\Python-learning\\pacote_pathlib\\pasta1')\n",
    "if caminho.exists():\n",
    "    shutil.rmtree(caminho)"
   ]
  },
  {
   "cell_type": "markdown",
   "metadata": {},
   "source": [
    "# Trabalhando com arquivos"
   ]
  },
  {
   "cell_type": "markdown",
   "metadata": {},
   "source": [
    "### Ciando novos arquivos"
   ]
  },
  {
   "cell_type": "code",
   "execution_count": 67,
   "metadata": {},
   "outputs": [],
   "source": [
    "caminho.mkdir(parents=True, exist_ok=True)          # cria as pastas do caminho\n",
    "Path(caminho / 'teste.txt').touch(exist_ok=True)    # cria o arquivo"
   ]
  },
  {
   "cell_type": "markdown",
   "metadata": {},
   "source": [
    "### Abrindo e lendo um arquivo"
   ]
  },
  {
   "cell_type": "code",
   "execution_count": 69,
   "metadata": {},
   "outputs": [
    {
     "name": "stdout",
     "output_type": "stream",
     "text": [
      "['arquivo teste.txt\\n', 'linha 2\\n', 'linha 3\\n', 'etc']\n"
     ]
    }
   ],
   "source": [
    "arquivo = caminho / 'teste.txt'\n",
    "\n",
    "arq = arquivo.open(encoding='cp1252')\n",
    "linhas = arq.readlines()\n",
    "print(linhas)\n",
    "arq.close()"
   ]
  },
  {
   "cell_type": "code",
   "execution_count": 71,
   "metadata": {},
   "outputs": [
    {
     "name": "stdout",
     "output_type": "stream",
     "text": [
      "['arquivo teste.txt\\n', 'linha 2\\n', 'linha 3\\n', 'etc']\n"
     ]
    }
   ],
   "source": [
    "with arquivo.open() as arq:\n",
    "    linhas = arq.readlines()\n",
    "print(linhas)"
   ]
  },
  {
   "cell_type": "code",
   "execution_count": 72,
   "metadata": {},
   "outputs": [
    {
     "name": "stdout",
     "output_type": "stream",
     "text": [
      "arquivo teste.txt\n",
      "linha 2\n",
      "linha 3\n",
      "etc\n"
     ]
    }
   ],
   "source": [
    "with arquivo.open() as arq:\n",
    "    conteudo = arq.read()\n",
    "print(conteudo)"
   ]
  },
  {
   "cell_type": "markdown",
   "metadata": {},
   "source": [
    "### Lendo arquivos"
   ]
  },
  {
   "cell_type": "code",
   "execution_count": 74,
   "metadata": {},
   "outputs": [
    {
     "name": "stdout",
     "output_type": "stream",
     "text": [
      "arquivo teste.txt\n",
      "linha 2\n",
      "linha 3\n",
      "etc\n"
     ]
    }
   ],
   "source": [
    "conteudo = arquivo.read_text()\n",
    "print(conteudo)"
   ]
  },
  {
   "cell_type": "code",
   "execution_count": null,
   "metadata": {},
   "outputs": [],
   "source": [
    "import json\n",
    "\n",
    "\n",
    "response = Path('./jsons/response.json')        # desde que exista\n",
    "\n",
    "with response.open() as f:\n",
    "    resp = json.load(f)\n",
    "\n",
    "resp\n"
   ]
  },
  {
   "cell_type": "code",
   "execution_count": null,
   "metadata": {},
   "outputs": [],
   "source": [
    "picture = Path('/home/miguel/Desktop/profile.png')\n",
    "\n",
    "with picture.open('rb') as f:\n",
    "    image_bytes = f.read()\n",
    "\n",
    "print(image_bytes)"
   ]
  },
  {
   "cell_type": "markdown",
   "metadata": {},
   "source": [
    "### Abrir todos os arquivos de um diretório"
   ]
  },
  {
   "cell_type": "code",
   "execution_count": 79,
   "metadata": {},
   "outputs": [
    {
     "name": "stdout",
     "output_type": "stream",
     "text": [
      "D:\\Projetos\\Python-learning\\pacote_pathlib\\pasta1\\teste.txt\n",
      "arquivo teste.txt\n",
      "linha 2\n",
      "linha 3\n",
      "etc\n"
     ]
    }
   ],
   "source": [
    "for arquivo in caminho.iterdir():\n",
    "    if arquivo.is_file():\n",
    "        print(arquivo)\n",
    "        with arquivo.open() as f:\n",
    "            print(f.read())"
   ]
  },
  {
   "cell_type": "markdown",
   "metadata": {},
   "source": [
    "### Copiar arquivos precisa do `shutil`"
   ]
  },
  {
   "cell_type": "code",
   "execution_count": 96,
   "metadata": {},
   "outputs": [
    {
     "data": {
      "text/plain": [
       "'D:\\\\Projetos\\\\Python-learning\\\\pacote_pathlib\\\\teste.txt'"
      ]
     },
     "execution_count": 96,
     "metadata": {},
     "output_type": "execute_result"
    }
   ],
   "source": [
    "caminho = Path(r'D:\\Projetos\\Python-learning\\pacote_pathlib\\pasta1')\n",
    "shutil.copy2(Path(caminho/'teste.txt'), caminho.parent)"
   ]
  },
  {
   "cell_type": "markdown",
   "metadata": {},
   "source": [
    "### Renomear arquivo"
   ]
  },
  {
   "cell_type": "code",
   "execution_count": 97,
   "metadata": {},
   "outputs": [
    {
     "data": {
      "text/plain": [
       "WindowsPath('D:/Projetos/Python-learning/pacote_pathlib/teste2.txt')"
      ]
     },
     "execution_count": 97,
     "metadata": {},
     "output_type": "execute_result"
    }
   ],
   "source": [
    "arquivo = Path(r'D:\\\\Projetos\\\\Python-learning\\\\pacote_pathlib\\\\teste.txt')\n",
    "novo_arquivo = Path(r'D:\\\\Projetos\\\\Python-learning\\\\pacote_pathlib\\\\teste2.txt')\n",
    "arquivo.rename(novo_arquivo,)"
   ]
  },
  {
   "cell_type": "markdown",
   "metadata": {},
   "source": [
    "### Apagar um arquivo"
   ]
  },
  {
   "cell_type": "code",
   "execution_count": 98,
   "metadata": {},
   "outputs": [],
   "source": [
    "arquivo = Path(r'D:\\\\Projetos\\\\Python-learning\\\\pacote_pathlib\\\\teste2.txt')\n",
    "arquivo.unlink(missing_ok=True)"
   ]
  }
 ],
 "metadata": {
  "kernelspec": {
   "display_name": "Python 3",
   "language": "python",
   "name": "python3"
  },
  "language_info": {
   "codemirror_mode": {
    "name": "ipython",
    "version": 3
   },
   "file_extension": ".py",
   "mimetype": "text/x-python",
   "name": "python",
   "nbconvert_exporter": "python",
   "pygments_lexer": "ipython3",
   "version": "3.12.1"
  }
 },
 "nbformat": 4,
 "nbformat_minor": 2
}

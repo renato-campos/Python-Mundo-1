{
 "cells": [
  {
   "cell_type": "code",
   "execution_count": 1,
   "metadata": {},
   "outputs": [],
   "source": [
    "from pathlib import Path"
   ]
  },
  {
   "cell_type": "code",
   "execution_count": 3,
   "metadata": {},
   "outputs": [
    {
     "name": "stdout",
     "output_type": "stream",
     "text": [
      "['__bytes__', '__class__', '__delattr__', '__dir__', '__doc__', '__enter__', '__eq__', '__exit__', '__format__', '__fspath__', '__ge__', '__getattribute__', '__getstate__', '__gt__', '__hash__', '__init__', '__init_subclass__', '__le__', '__lt__', '__module__', '__ne__', '__new__', '__reduce__', '__reduce_ex__', '__repr__', '__rtruediv__', '__setattr__', '__sizeof__', '__slots__', '__str__', '__subclasshook__', '__truediv__', '_drv', '_flavour', '_format_parsed_parts', '_from_parsed_parts', '_hash', '_lines', '_lines_cached', '_load_parts', '_make_child_relpath', '_parse_path', '_parts_normcase', '_parts_normcase_cached', '_raw_paths', '_root', '_scandir', '_str', '_str_normcase', '_str_normcase_cached', '_tail', '_tail_cached', 'absolute', 'anchor', 'as_posix', 'as_uri', 'chmod', 'cwd', 'drive', 'exists', 'expanduser', 'glob', 'group', 'hardlink_to', 'home', 'is_absolute', 'is_block_device', 'is_char_device', 'is_dir', 'is_fifo', 'is_file', 'is_junction', 'is_mount', 'is_relative_to', 'is_reserved', 'is_socket', 'is_symlink', 'iterdir', 'joinpath', 'lchmod', 'lstat', 'match', 'mkdir', 'name', 'open', 'owner', 'parent', 'parents', 'parts', 'read_bytes', 'read_text', 'readlink', 'relative_to', 'rename', 'replace', 'resolve', 'rglob', 'rmdir', 'root', 'samefile', 'stat', 'stem', 'suffix', 'suffixes', 'symlink_to', 'touch', 'unlink', 'walk', 'with_name', 'with_segments', 'with_stem', 'with_suffix', 'write_bytes', 'write_text']\n"
     ]
    }
   ],
   "source": [
    "print(dir(Path))"
   ]
  },
  {
   "cell_type": "code",
   "execution_count": 121,
   "metadata": {},
   "outputs": [
    {
     "data": {
      "text/plain": [
       "[]"
      ]
     },
     "execution_count": 121,
     "metadata": {},
     "output_type": "execute_result"
    }
   ],
   "source": [
    "# passando um caminho relativo\n",
    "p = Path('.')\n",
    "[x for x in p.iterdir() if x.is_dir()]      # uma list comprehension"
   ]
  },
  {
   "cell_type": "code",
   "execution_count": 122,
   "metadata": {},
   "outputs": [
    {
     "data": {
      "text/plain": [
       "WindowsPath('d:/Projetos/Python-learning/pacote_pathlib')"
      ]
     },
     "execution_count": 122,
     "metadata": {},
     "output_type": "execute_result"
    }
   ],
   "source": [
    "# mas qual é esse caminho realmente\n",
    "p.absolute()"
   ]
  },
  {
   "cell_type": "markdown",
   "metadata": {},
   "source": [
    "#### CRIANDO PASTAS E ARQUIVOS"
   ]
  },
  {
   "cell_type": "code",
   "execution_count": null,
   "metadata": {},
   "outputs": [],
   "source": [
    "pasta = Path('nova_pasta')\n",
    "pasta.mkdir(exist_ok=True)\n",
    "arquivo = Path(pasta /'primeiro.txt')\n",
    "arquivo.touch(exist_ok=True)\n",
    "with arquivo.open('a+') as f:\n",
    "    f.write('olá mundo!')"
   ]
  },
  {
   "cell_type": "markdown",
   "metadata": {},
   "source": [
    "#### Tornando um caminho pessoal em objeto\n"
   ]
  },
  {
   "cell_type": "code",
   "execution_count": 17,
   "metadata": {},
   "outputs": [],
   "source": [
    "# inserção do caminho\n",
    "caminho = Path(input('Insira o endereço da pasta: '))"
   ]
  },
  {
   "cell_type": "markdown",
   "metadata": {},
   "source": [
    "#### Listando os diretórios internos ao caminho\n",
    "\n",
    "repare que não é a àrvore toda, mas apenas a pasta em questão"
   ]
  },
  {
   "cell_type": "code",
   "execution_count": 14,
   "metadata": {},
   "outputs": [
    {
     "data": {
      "text/plain": [
       "[WindowsPath('C:/Users/Renato/Desktop/pasta0/pasta1')]"
      ]
     },
     "execution_count": 14,
     "metadata": {},
     "output_type": "execute_result"
    }
   ],
   "source": [
    "lista_pasta = [x for x in caminho.iterdir() if x.is_dir()]\n",
    "lista_pasta"
   ]
  },
  {
   "cell_type": "markdown",
   "metadata": {},
   "source": [
    "#### Listando os arquivos em um diretório"
   ]
  },
  {
   "cell_type": "code",
   "execution_count": 15,
   "metadata": {},
   "outputs": [
    {
     "data": {
      "text/plain": [
       "[WindowsPath('C:/Users/Renato/Desktop/pasta0/01.txt.txt')]"
      ]
     },
     "execution_count": 15,
     "metadata": {},
     "output_type": "execute_result"
    }
   ],
   "source": [
    "lista_arquivos = [x for x in caminho.iterdir() if x.is_file()]\n",
    "lista_arquivos"
   ]
  },
  {
   "cell_type": "code",
   "execution_count": 21,
   "metadata": {},
   "outputs": [
    {
     "data": {
      "text/plain": [
       "[WindowsPath('C:/Users/Renato/Desktop/pasta0/01.txt.txt'),\n",
       " WindowsPath('C:/Users/Renato/Desktop/pasta0/nova.new'),\n",
       " WindowsPath('C:/Users/Renato/Desktop/pasta0/pasta1')]"
      ]
     },
     "execution_count": 21,
     "metadata": {},
     "output_type": "execute_result"
    }
   ],
   "source": [
    "# outro modo de listas conteúdo do caminho\n",
    "lista_arquivos2 = list(caminho.glob('*'))\n",
    "lista_arquivos2"
   ]
  },
  {
   "cell_type": "markdown",
   "metadata": {},
   "source": [
    "#### Caminhando dentro da árvore de diretórios"
   ]
  },
  {
   "cell_type": "code",
   "execution_count": 72,
   "metadata": {},
   "outputs": [
    {
     "name": "stdout",
     "output_type": "stream",
     "text": [
      "C:\\Users\\Renato\\Desktop\\pasta0\n"
     ]
    },
    {
     "data": {
      "text/plain": [
       "WindowsPath('C:/Users/Renato/Desktop/pasta0/pasta1/pasta2')"
      ]
     },
     "execution_count": 72,
     "metadata": {},
     "output_type": "execute_result"
    }
   ],
   "source": [
    "print(caminho)\n",
    "q = caminho / 'pasta1' / 'pasta2'\n",
    "q"
   ]
  },
  {
   "cell_type": "markdown",
   "metadata": {},
   "source": [
    "#### Torna absoluta, normaliza e remove todos os links simbólicos do caminho"
   ]
  },
  {
   "cell_type": "code",
   "execution_count": 73,
   "metadata": {},
   "outputs": [
    {
     "name": "stdout",
     "output_type": "stream",
     "text": [
      "C:\\Users\\Renato\\Desktop\\pasta0\n",
      "C:\\Users\\Renato\\Desktop\\Mensagens\n"
     ]
    }
   ],
   "source": [
    "q = q / '..' / '..'\n",
    "print(q.resolve())\n",
    "q = q / '..'/ 'Mensagens'\n",
    "print(q.resolve())\n"
   ]
  },
  {
   "cell_type": "markdown",
   "metadata": {},
   "source": [
    "#### Retorna se o caminho exist fisicamente ou não"
   ]
  },
  {
   "cell_type": "code",
   "execution_count": 37,
   "metadata": {},
   "outputs": [
    {
     "name": "stdout",
     "output_type": "stream",
     "text": [
      "True\n",
      "True\n",
      "False\n"
     ]
    }
   ],
   "source": [
    "print(q.exists())           # existe?\n",
    "print(q.is_dir())           # é pasta?\n",
    "print(q.is_file())          # é arquivo?"
   ]
  },
  {
   "cell_type": "code",
   "execution_count": 43,
   "metadata": {},
   "outputs": [
    {
     "name": "stdout",
     "output_type": "stream",
     "text": [
      "Olá mundo\n"
     ]
    }
   ],
   "source": [
    "_file = q / '21.txt'\n",
    "with _file.open(encoding='utf-8') as f: \n",
    "    texto = f.readline()\n",
    "\n",
    "print(texto)"
   ]
  },
  {
   "cell_type": "code",
   "execution_count": 53,
   "metadata": {},
   "outputs": [
    {
     "data": {
      "text/plain": [
       "'C:\\\\'"
      ]
     },
     "execution_count": 53,
     "metadata": {},
     "output_type": "execute_result"
    }
   ],
   "source": [
    "p.anchor"
   ]
  },
  {
   "cell_type": "code",
   "execution_count": 60,
   "metadata": {},
   "outputs": [
    {
     "name": "stdout",
     "output_type": "stream",
     "text": [
      "<WindowsPath.parents>\n",
      "C:\\Users\\Renato\\Desktop\n",
      "C:\\Users\\Renato\n",
      "C:\\Users\n",
      "C:\\\n",
      "Dá erro pois não existe\n"
     ]
    }
   ],
   "source": [
    "print(p.parents)\n",
    "print(p.parents[0])\n",
    "print(p.parents[1])\n",
    "print(p.parents[2])\n",
    "print(p.parents[3])\n",
    "try:\n",
    "    print(p.parents[4])\n",
    "except:\n",
    "    print('Dá erro pois não existe')"
   ]
  },
  {
   "cell_type": "code",
   "execution_count": 63,
   "metadata": {},
   "outputs": [
    {
     "name": "stdout",
     "output_type": "stream",
     "text": [
      "C:\\Users\\Renato\\Desktop\n",
      "C:\\Users\\Renato\n",
      "C:\\Users\n"
     ]
    }
   ],
   "source": [
    "print(p.parent)\n",
    "print(p.parent.parent)\n",
    "print(p.parent.parent.parent)"
   ]
  },
  {
   "cell_type": "code",
   "execution_count": 67,
   "metadata": {},
   "outputs": [
    {
     "name": "stdout",
     "output_type": "stream",
     "text": [
      "('C:\\\\', 'Users', 'Renato', 'Desktop', 'pasta0')\n",
      "C:\\\n",
      "Users\n"
     ]
    }
   ],
   "source": [
    "print(p.parts)\n",
    "print(p.parts[0])\n",
    "print(p.parts[1])"
   ]
  },
  {
   "cell_type": "markdown",
   "metadata": {},
   "source": [
    "#### Retorna o nome da pasta o do arquivo do caminho"
   ]
  },
  {
   "cell_type": "code",
   "execution_count": 76,
   "metadata": {},
   "outputs": [
    {
     "name": "stdout",
     "output_type": "stream",
     "text": [
      "21.txt\n",
      "Mensagens\n"
     ]
    }
   ],
   "source": [
    "print(_file.name)\n",
    "print(q.name)"
   ]
  },
  {
   "cell_type": "markdown",
   "metadata": {},
   "source": [
    "#### Retorna a extensão do componente final, se houver"
   ]
  },
  {
   "cell_type": "code",
   "execution_count": 79,
   "metadata": {},
   "outputs": [
    {
     "name": "stdout",
     "output_type": "stream",
     "text": [
      ".txt\n",
      "\n"
     ]
    }
   ],
   "source": [
    "print(_file.suffix)\n",
    "print(q.suffix)         # pasta não tem"
   ]
  },
  {
   "cell_type": "code",
   "execution_count": 99,
   "metadata": {},
   "outputs": [
    {
     "name": "stdout",
     "output_type": "stream",
     "text": [
      "[]\n",
      "Mensagens\n"
     ]
    }
   ],
   "source": [
    "caminho = Path(r'C:\\Users\\Renato\\Desktop\\Mensagens')\n",
    "print(caminho.resolve().suffixes)\n",
    "print(caminho.resolve().stem)"
   ]
  },
  {
   "cell_type": "code",
   "execution_count": 105,
   "metadata": {},
   "outputs": [
    {
     "name": "stdout",
     "output_type": "stream",
     "text": [
      "True\n",
      "False\n"
     ]
    }
   ],
   "source": [
    "print(caminho.is_absolute())\n",
    "print(Path().is_absolute())"
   ]
  },
  {
   "cell_type": "markdown",
   "metadata": {},
   "source": [
    "#### Gloob recursivo\n",
    "\\** significa este diretório e todos os outros dentro dele"
   ]
  },
  {
   "cell_type": "code",
   "execution_count": 107,
   "metadata": {},
   "outputs": [
    {
     "data": {
      "text/plain": [
       "[WindowsPath('C:/Users/Renato/Desktop/pasta0/01.txt.txt'),\n",
       " WindowsPath('C:/Users/Renato/Desktop/pasta0/nova.new'),\n",
       " WindowsPath('C:/Users/Renato/Desktop/pasta0/pasta1'),\n",
       " WindowsPath('C:/Users/Renato/Desktop/pasta0/pasta1/11,txt.txt'),\n",
       " WindowsPath('C:/Users/Renato/Desktop/pasta0/pasta1/pasta2'),\n",
       " WindowsPath('C:/Users/Renato/Desktop/pasta0/pasta1/pasta2/21.txt')]"
      ]
     },
     "execution_count": 107,
     "metadata": {},
     "output_type": "execute_result"
    }
   ],
   "source": [
    "sorted(Path(r'C:\\Users\\Renato\\Desktop\\pasta0').glob('**/*'))"
   ]
  },
  {
   "cell_type": "code",
   "execution_count": 111,
   "metadata": {},
   "outputs": [
    {
     "name": "stdout",
     "output_type": "stream",
     "text": [
      "True\n",
      "False\n",
      "False\n",
      "True\n"
     ]
    }
   ],
   "source": [
    "print(caminho.is_dir(), caminho.is_file(), _file.is_dir(), _file.is_file(), sep='\\n')"
   ]
  },
  {
   "cell_type": "code",
   "execution_count": 117,
   "metadata": {},
   "outputs": [
    {
     "name": "stdout",
     "output_type": "stream",
     "text": [
      "[WindowsPath('C:/Users/Renato/Desktop/pasta0/nova.new'), WindowsPath('C:/Users/Renato/Desktop/pasta0/pasta1')]\n",
      "[WindowsPath('C:/Users/Renato/Desktop/pasta0/01.txt.txt')]\n"
     ]
    }
   ],
   "source": [
    "caminho = Path(r'C:\\Users\\Renato\\Desktop\\pasta0')\n",
    "print([f for f in caminho.iterdir() if f.is_dir()])\n",
    "print([f for f in caminho.iterdir() if f.is_file()])\n"
   ]
  },
  {
   "cell_type": "markdown",
   "metadata": {},
   "source": [
    "#### Uma implementação tipo **rmtree()**"
   ]
  },
  {
   "cell_type": "code",
   "execution_count": 119,
   "metadata": {},
   "outputs": [],
   "source": [
    "for root, dirs, files in caminho.walk(top_down=False):\n",
    "    for name in files:\n",
    "        (root / name).unlink()\n",
    "    for name in dirs:\n",
    "        (root / name).rmdir()"
   ]
  }
 ],
 "metadata": {
  "kernelspec": {
   "display_name": "Python 3",
   "language": "python",
   "name": "python3"
  },
  "language_info": {
   "codemirror_mode": {
    "name": "ipython",
    "version": 3
   },
   "file_extension": ".py",
   "mimetype": "text/x-python",
   "name": "python",
   "nbconvert_exporter": "python",
   "pygments_lexer": "ipython3",
   "version": "3.12.0"
  }
 },
 "nbformat": 4,
 "nbformat_minor": 2
}

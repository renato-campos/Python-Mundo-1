{
 "cells": [
  {
   "cell_type": "markdown",
   "metadata": {},
   "source": [
    "# Regular Expressions (Regex) - Python"
   ]
  },
  {
   "cell_type": "markdown",
   "metadata": {},
   "source": [
    "#### Documentation : https://docs.python.org/3/howto/regex.html"
   ]
  },
  {
   "cell_type": "markdown",
   "metadata": {},
   "source": [
    "## Importando a biblioteca:"
   ]
  },
  {
   "cell_type": "code",
   "execution_count": 2,
   "metadata": {},
   "outputs": [],
   "source": [
    "import re"
   ]
  },
  {
   "cell_type": "markdown",
   "metadata": {},
   "source": [
    "## Caracteres:"
   ]
  },
  {
   "cell_type": "code",
   "execution_count": 8,
   "metadata": {},
   "outputs": [
    {
     "name": "stdout",
     "output_type": "stream",
     "text": [
      "['arara']\n"
     ]
    }
   ],
   "source": [
    "# . - Entende qualquer valor exceto uma nova linha\n",
    "# \\. - Para buscar o caracter \".\"\n",
    "texto = 'arara'\n",
    "t = re.compile(r'a...a')\n",
    "check = t.findall(texto)\n",
    "print(check)"
   ]
  },
  {
   "cell_type": "code",
   "execution_count": 28,
   "metadata": {},
   "outputs": [
    {
     "name": "stdout",
     "output_type": "stream",
     "text": [
      "['r', 'r'] \n",
      " ['a']\n"
     ]
    }
   ],
   "source": [
    "# ^ - Irá testar o início da string\n",
    "# [^] -Irá considerar todos os caracteres EXCETO o indicado\n",
    "texto = 'arara'\n",
    "t = re.compile(r'[^a]')\n",
    "q = re.compile(r'^a')\n",
    "check = t.findall(texto)\n",
    "check1= q.findall(texto)\n",
    "print(check,'\\n',check1)"
   ]
  },
  {
   "cell_type": "code",
   "execution_count": 3,
   "metadata": {},
   "outputs": [
    {
     "name": "stdout",
     "output_type": "stream",
     "text": [
      "['1', '9', '9', '2'] \n",
      " ['a', 'r', 'a', 'r', 'a']\n"
     ]
    }
   ],
   "source": [
    "# \\d - Qualquer caracter que SEJA um algarismo  de 0 a 9\n",
    "# \\D - Qualquer caracter que NÃO SEJA um algarismo de 0 a 9\n",
    "texto = 'arara1992'\n",
    "t = re.compile(r'\\d')\n",
    "q = re.compile(r'\\D')\n",
    "check = t.findall(texto)\n",
    "check1= q.findall(texto)\n",
    "print(check,'\\n',check1)"
   ]
  },
  {
   "cell_type": "code",
   "execution_count": 4,
   "metadata": {},
   "outputs": [
    {
     "name": "stdout",
     "output_type": "stream",
     "text": [
      "['\\n', '\\n', ' ', '\\n', '\\n'] \n",
      " ['a', 'r', 'a', 'r', 'a', '1', '9', '9', '2']\n"
     ]
    }
   ],
   "source": [
    "# \\s - Qualquer caracter que SEJA vazio\n",
    "# \\S - Qualquer caracter que NÃO SEJA vazio\n",
    "texto = '''\n",
    "\n",
    "arara 1992\n",
    "\n",
    "'''\n",
    "t = re.compile(r'\\s')\n",
    "q = re.compile(r'\\S')\n",
    "check = t.findall(texto)\n",
    "check1= q.findall(texto)\n",
    "print(check,'\\n',check1)"
   ]
  },
  {
   "cell_type": "code",
   "execution_count": 43,
   "metadata": {},
   "outputs": [
    {
     "name": "stdout",
     "output_type": "stream",
     "text": [
      "['_', 'a', 'r', 'a', 'r', 'a', '1', '9', '9', '2', '_'] \n",
      " ['\\n', '\\n', '@', ' ', '\\n', '\\n']\n"
     ]
    }
   ],
   "source": [
    "# \\w - Qualquer caracter que SEJA alfanumérico\n",
    "# \\W - Qualquer caracter que NÃO SEJA Alfanumérico\n",
    "texto = '''\n",
    "\n",
    "_arara@ 1992_\n",
    "\n",
    "'''\n",
    "t = re.compile(r'\\w')\n",
    "q = re.compile(r'\\W')\n",
    "check = t.findall(texto)\n",
    "check1= q.findall(texto)\n",
    "print(check,'\\n',check1)"
   ]
  },
  {
   "cell_type": "markdown",
   "metadata": {},
   "source": [
    "### Métodos para checagem:"
   ]
  },
  {
   "cell_type": "code",
   "execution_count": 5,
   "metadata": {},
   "outputs": [
    {
     "name": "stdout",
     "output_type": "stream",
     "text": [
      "['a', 'a', 'a']\n",
      "<re.Match object; span=(0, 1), match='a'>\n",
      "<re.Match object; span=(0, 1), match='a'>\n",
      "<callable_iterator object at 0x000001DFC16C9F10>\n"
     ]
    }
   ],
   "source": [
    "texto = 'arara'\n",
    "t = re.compile(r'a')\n",
    "check_findall = t.findall(texto)\n",
    "check_match = t.match(texto)\n",
    "check_search = t.search(texto)\n",
    "check_finditer = t.finditer(texto)\n",
    "print(check_findall)\n",
    "print(check_match)\n",
    "print(check_search)\n",
    "print(check_finditer)"
   ]
  },
  {
   "cell_type": "code",
   "execution_count": 6,
   "metadata": {},
   "outputs": [
    {
     "name": "stdout",
     "output_type": "stream",
     "text": [
      "<re.Match object; span=(0, 1), match='a'>\n",
      "<re.Match object; span=(2, 3), match='a'>\n",
      "<re.Match object; span=(4, 5), match='a'>\n"
     ]
    }
   ],
   "source": [
    "correspondencias = check_finditer\n",
    "for correspondencia in correspondencias:\n",
    "    print(correspondencia)"
   ]
  },
  {
   "cell_type": "markdown",
   "metadata": {},
   "source": [
    "## Estruturas"
   ]
  },
  {
   "cell_type": "markdown",
   "metadata": {},
   "source": [
    "### [] Character set"
   ]
  },
  {
   "cell_type": "code",
   "execution_count": 7,
   "metadata": {},
   "outputs": [
    {
     "name": "stdout",
     "output_type": "stream",
     "text": [
      "<re.Match object; span=(1, 2), match='A'>\n",
      "<re.Match object; span=(2, 3), match='r'>\n",
      "<re.Match object; span=(3, 4), match='a'>\n",
      "<re.Match object; span=(4, 5), match='r'>\n",
      "<re.Match object; span=(5, 6), match='a'>\n",
      "<re.Match object; span=(7, 8), match='1'>\n",
      "<re.Match object; span=(8, 9), match='9'>\n",
      "<re.Match object; span=(9, 10), match='9'>\n",
      "<re.Match object; span=(10, 11), match='2'>\n"
     ]
    }
   ],
   "source": [
    "texto = '''\n",
    "Arara 1992\n",
    "'''\n",
    "t = re.compile(r'[a-zA-Z0-9]')\n",
    "correspondencias = t.finditer(texto)\n",
    "for correspondencia in correspondencias:\n",
    "    print(correspondencia)\n",
    "\n"
   ]
  },
  {
   "cell_type": "code",
   "execution_count": 8,
   "metadata": {},
   "outputs": [
    {
     "name": "stdout",
     "output_type": "stream",
     "text": [
      "<re.Match object; span=(5, 8), match='a 1'>\n"
     ]
    }
   ],
   "source": [
    "texto = '''\n",
    "Arara 1992\n",
    "'''\n",
    "t = re.compile(r'[a-zA-Z] [0-9]')\n",
    "correspondencias = t.finditer(texto)\n",
    "for correspondencia in correspondencias:\n",
    "    print(correspondencia)\n"
   ]
  },
  {
   "cell_type": "code",
   "execution_count": 9,
   "metadata": {},
   "outputs": [
    {
     "name": "stdout",
     "output_type": "stream",
     "text": [
      "<re.Match object; span=(1, 11), match='Arara 1992'>\n"
     ]
    }
   ],
   "source": [
    "texto = '''\n",
    "Arara 1992\n",
    "'''\n",
    "t = re.compile(r'[a-zA-Z]+ [0-9]+')\n",
    "correspondencias = t.finditer(texto)\n",
    "for correspondencia in correspondencias:\n",
    "    print(correspondencia)"
   ]
  },
  {
   "cell_type": "markdown",
   "metadata": {},
   "source": [
    "### Quantificadores:"
   ]
  },
  {
   "cell_type": "code",
   "execution_count": 30,
   "metadata": {},
   "outputs": [
    {
     "name": "stdout",
     "output_type": "stream",
     "text": [
      "<re.Match object; span=(0, 0), match=''>\n",
      "<re.Match object; span=(1, 1), match=''>\n",
      "<re.Match object; span=(2, 6), match='rara'>\n",
      "<re.Match object; span=(6, 6), match=''>\n",
      "<re.Match object; span=(7, 7), match=''>\n"
     ]
    }
   ],
   "source": [
    "# * - 0 ou mais\n",
    "texto = '''\n",
    "Arara\n",
    "'''\n",
    "t = re.compile(r'[ra]*')\n",
    "correspondencias = t.finditer(texto)\n",
    "for correspondencia in correspondencias:\n",
    "    print(correspondencia)"
   ]
  },
  {
   "cell_type": "code",
   "execution_count": 31,
   "metadata": {},
   "outputs": [
    {
     "name": "stdout",
     "output_type": "stream",
     "text": [
      "<re.Match object; span=(2, 6), match='rara'>\n"
     ]
    }
   ],
   "source": [
    "# + - 1 ou mais\n",
    "texto = '''\n",
    "Arara\n",
    "'''\n",
    "t = re.compile(r'[ra]+')\n",
    "correspondencias = t.finditer(texto)\n",
    "for correspondencia in correspondencias:\n",
    "    print(correspondencia)"
   ]
  },
  {
   "cell_type": "code",
   "execution_count": 32,
   "metadata": {},
   "outputs": [
    {
     "name": "stdout",
     "output_type": "stream",
     "text": [
      "<re.Match object; span=(0, 0), match=''>\n",
      "<re.Match object; span=(1, 1), match=''>\n",
      "<re.Match object; span=(2, 3), match='r'>\n",
      "<re.Match object; span=(3, 4), match='a'>\n",
      "<re.Match object; span=(4, 5), match='r'>\n",
      "<re.Match object; span=(5, 6), match='a'>\n",
      "<re.Match object; span=(6, 6), match=''>\n",
      "<re.Match object; span=(7, 7), match=''>\n"
     ]
    }
   ],
   "source": [
    "# ? - 0 ou um\n",
    "texto = '''\n",
    "Arara\n",
    "'''\n",
    "t = re.compile(r'[ra]?')\n",
    "correspondencias = t.finditer(texto)\n",
    "for correspondencia in correspondencias:\n",
    "    print(correspondencia)"
   ]
  },
  {
   "cell_type": "code",
   "execution_count": 41,
   "metadata": {},
   "outputs": [
    {
     "name": "stdout",
     "output_type": "stream",
     "text": [
      "<re.Match object; span=(2, 4), match='ra'>\n",
      "<re.Match object; span=(4, 6), match='ra'>\n"
     ]
    }
   ],
   "source": [
    "#{3} - número exato de repetições\n",
    "texto = '''\n",
    "Arara\n",
    "'''\n",
    "t = re.compile(r'[ra]{2}')\n",
    "correspondencias = t.finditer(texto)\n",
    "for correspondencia in correspondencias:\n",
    "    print(correspondencia)"
   ]
  },
  {
   "cell_type": "code",
   "execution_count": 38,
   "metadata": {},
   "outputs": [
    {
     "name": "stdout",
     "output_type": "stream",
     "text": [
      "<re.Match object; span=(2, 6), match='rara'>\n"
     ]
    }
   ],
   "source": [
    "#{3,4} - de 3 a 4 min e max\n",
    "texto = '''\n",
    "Arara\n",
    "'''\n",
    "t = re.compile(r'[ra]{2,4}')\n",
    "correspondencias = t.finditer(texto)\n",
    "for correspondencia in correspondencias:\n",
    "    print(correspondencia)\n"
   ]
  },
  {
   "cell_type": "markdown",
   "metadata": {},
   "source": [
    "### ()Grupos"
   ]
  },
  {
   "cell_type": "code",
   "execution_count": 26,
   "metadata": {},
   "outputs": [
    {
     "name": "stdout",
     "output_type": "stream",
     "text": [
      "<re.Match object; span=(1, 11), match='Arara 1992'>\n",
      "Arara 1992\n",
      "A\n",
      "<re.Match object; span=(12, 22), match='arara 1993'>\n",
      "arara 1993\n",
      "a\n"
     ]
    }
   ],
   "source": [
    "texto = '''\n",
    "Arara 1992\n",
    "arara 1993\n",
    "'''\n",
    "t = re.compile(r'(A|a)?[a-z]{4} [0-9]+')\n",
    "correspondencias = t.finditer(texto)\n",
    "for correspondencia in correspondencias:\n",
    "    print(correspondencia)\n",
    "    print(correspondencia.group(0))\n",
    "    print(correspondencia.group(1))"
   ]
  },
  {
   "cell_type": "markdown",
   "metadata": {},
   "source": [
    "## Textos:"
   ]
  },
  {
   "cell_type": "code",
   "execution_count": 82,
   "metadata": {},
   "outputs": [
    {
     "name": "stdout",
     "output_type": "stream",
     "text": [
      "<callable_iterator object at 0x000001DFC3379D30>\n",
      "<re.Match object; span=(17, 35), match='https://google.com'>\n",
      "None\n",
      "google.\n",
      "com\n",
      "<re.Match object; span=(37, 55), match='https://www.gov.br'>\n",
      "None\n",
      "www.\n",
      "gov.br\n",
      "<re.Match object; span=(57, 83), match='https://www.kaiamba.com.br'>\n",
      "www.\n",
      "kaiamba.\n",
      "com.br\n",
      "<re.Match object; span=(85, 112), match='http://www.faetec.rj.gov.br'>\n",
      "www.\n",
      "rj.\n",
      "gov.br\n"
     ]
    }
   ],
   "source": [
    "texto1 = '''\n",
    "Sites diversos:\n",
    "https://google.com/\n",
    "https://www.gov.br/\n",
    "https://www.kaiamba.com.br/\n",
    "http://www.faetec.rj.gov.br/\n",
    "'''\n",
    "t = re.compile(r'https?://(www\\.)?([a-zA-Z0-9]+\\.)+(com.br|gov.br|com)')\n",
    "correspondencias = t.finditer(texto1)\n",
    "for correspondencia in correspondencias:\n",
    "    print(correspondencia)\n",
    "    print(correspondencia.group(1))\n",
    "    print(correspondencia.group(2))\n",
    "    print(correspondencia.group(3))\n",
    "\n"
   ]
  },
  {
   "cell_type": "code",
   "execution_count": 87,
   "metadata": {},
   "outputs": [],
   "source": [
    "emails = '''\n",
    "Vários e-mails:\n",
    "daniel@dominio.com\n",
    "daniel.candiotto@dominio.com.br\n",
    "DANIEL@dominio.br\n",
    "DANIEL.CANDIOTTO@gov.br\n",
    "danielcandiotto1@dominio1.co\n",
    "daniel_candiotto_1@dominio-dominio.net\n",
    "'''"
   ]
  },
  {
   "cell_type": "code",
   "execution_count": 101,
   "metadata": {},
   "outputs": [
    {
     "name": "stdout",
     "output_type": "stream",
     "text": [
      "<re.Match object; span=(17, 35), match='daniel@dominio.com'>\n",
      "<re.Match object; span=(36, 67), match='daniel.candiotto@dominio.com.br'>\n",
      "<re.Match object; span=(68, 85), match='DANIEL@dominio.br'>\n",
      "<re.Match object; span=(86, 109), match='DANIEL.CANDIOTTO@gov.br'>\n",
      "<re.Match object; span=(110, 138), match='danielcandiotto1@dominio1.co'>\n",
      "<re.Match object; span=(139, 177), match='daniel_candiotto_1@dominio-dominio.net'>\n"
     ]
    }
   ],
   "source": [
    "t = re.compile(r'[a-zA-Z0-9_.+-]+@[a-zA-Z0-9-]+\\.[a-zA-Z0-9-.]+')\n",
    "correspondencias = t.finditer(emails)\n",
    "for correspondencia in correspondencias:\n",
    "    print(correspondencia)\n",
    "\n",
    "    "
   ]
  }
 ],
 "metadata": {
  "kernelspec": {
   "display_name": "Python 3",
   "language": "python",
   "name": "python3"
  },
  "language_info": {
   "codemirror_mode": {
    "name": "ipython",
    "version": 3
   },
   "file_extension": ".py",
   "mimetype": "text/x-python",
   "name": "python",
   "nbconvert_exporter": "python",
   "pygments_lexer": "ipython3",
   "version": "3.12.4"
  }
 },
 "nbformat": 4,
 "nbformat_minor": 4
}

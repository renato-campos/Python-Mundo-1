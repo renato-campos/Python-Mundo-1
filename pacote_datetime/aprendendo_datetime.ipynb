{
 "cells": [
  {
   "cell_type": "markdown",
   "metadata": {},
   "source": [
    "# Biblioteca Datetime\n",
    "\n",
    "Como trabalhar com *datas e tempo* no Python\n",
    "\n",
    "link: https://docs.python.org/pt-br/3/library/datetime.html"
   ]
  },
  {
   "cell_type": "markdown",
   "metadata": {},
   "source": [
    "#### Importação dos pacotes a serem usados\n",
    "A biblioteca `datetime` dispõe de algumas subdivisões em módulos:\n",
    "\n",
    "* datetime -> para manipulação das datas e tempo\n",
    "* date -> para manipulação de apenas datas\n",
    "* time -> para manipulação de apenas tempo\n",
    "* timedelta -> para fazer cálculos envolvendo datas e horas (deltas)\n",
    "* zoneinfo -> para manipular fusos horários"
   ]
  },
  {
   "cell_type": "code",
   "execution_count": 23,
   "metadata": {},
   "outputs": [],
   "source": [
    "# importa toda a biblioteca, pode ser desnecessário\n",
    "import datetime\n",
    "# melhor selecionar e importar o módulo específico com o que vai trabalhar\n",
    "from datetime import datetime   # datas e tempo\n",
    "from datetime import date       # datas\n",
    "from datetime import time       # tempo\n",
    "from datetime import timedelta  # cálculo de intervalos de tempo com datas e horas\n",
    "import zoneinfo                 # manipular fusos horários"
   ]
  },
  {
   "cell_type": "code",
   "execution_count": 24,
   "metadata": {},
   "outputs": [
    {
     "name": "stdout",
     "output_type": "stream",
     "text": [
      "['__add__', '__class__', '__delattr__', '__dir__', '__doc__', '__eq__', '__format__', '__ge__', '__getattribute__', '__getstate__', '__gt__', '__hash__', '__init__', '__init_subclass__', '__le__', '__lt__', '__ne__', '__new__', '__radd__', '__reduce__', '__reduce_ex__', '__repr__', '__rsub__', '__setattr__', '__sizeof__', '__str__', '__sub__', '__subclasshook__', 'astimezone', 'combine', 'ctime', 'date', 'day', 'dst', 'fold', 'fromisocalendar', 'fromisoformat', 'fromordinal', 'fromtimestamp', 'hour', 'isocalendar', 'isoformat', 'isoweekday', 'max', 'microsecond', 'min', 'minute', 'month', 'now', 'replace', 'resolution', 'second', 'strftime', 'strptime', 'time', 'timestamp', 'timetuple', 'timetz', 'today', 'toordinal', 'tzinfo', 'tzname', 'utcfromtimestamp', 'utcnow', 'utcoffset', 'utctimetuple', 'weekday', 'year']\n",
      "68\n"
     ]
    }
   ],
   "source": [
    "print(dir(datetime))\n",
    "print(len(dir(datetime)))"
   ]
  },
  {
   "cell_type": "code",
   "execution_count": 25,
   "metadata": {},
   "outputs": [
    {
     "name": "stdout",
     "output_type": "stream",
     "text": [
      "['__add__', '__class__', '__delattr__', '__dir__', '__doc__', '__eq__', '__format__', '__ge__', '__getattribute__', '__getstate__', '__gt__', '__hash__', '__init__', '__init_subclass__', '__le__', '__lt__', '__ne__', '__new__', '__radd__', '__reduce__', '__reduce_ex__', '__repr__', '__rsub__', '__setattr__', '__sizeof__', '__str__', '__sub__', '__subclasshook__', 'ctime', 'day', 'fromisocalendar', 'fromisoformat', 'fromordinal', 'fromtimestamp', 'isocalendar', 'isoformat', 'isoweekday', 'max', 'min', 'month', 'replace', 'resolution', 'strftime', 'timetuple', 'today', 'toordinal', 'weekday', 'year']\n",
      "48\n"
     ]
    }
   ],
   "source": [
    "print(dir(date))\n",
    "print(len(dir(date)))"
   ]
  },
  {
   "cell_type": "code",
   "execution_count": 26,
   "metadata": {},
   "outputs": [
    {
     "name": "stdout",
     "output_type": "stream",
     "text": [
      "['__class__', '__delattr__', '__dir__', '__doc__', '__eq__', '__format__', '__ge__', '__getattribute__', '__getstate__', '__gt__', '__hash__', '__init__', '__init_subclass__', '__le__', '__lt__', '__ne__', '__new__', '__reduce__', '__reduce_ex__', '__repr__', '__setattr__', '__sizeof__', '__str__', '__subclasshook__', 'dst', 'fold', 'fromisoformat', 'hour', 'isoformat', 'max', 'microsecond', 'min', 'minute', 'replace', 'resolution', 'second', 'strftime', 'tzinfo', 'tzname', 'utcoffset']\n",
      "40\n"
     ]
    }
   ],
   "source": [
    "print(dir(time))\n",
    "print(len(dir(time)))"
   ]
  },
  {
   "cell_type": "code",
   "execution_count": 27,
   "metadata": {},
   "outputs": [
    {
     "name": "stdout",
     "output_type": "stream",
     "text": [
      "['__abs__', '__add__', '__bool__', '__class__', '__delattr__', '__dir__', '__divmod__', '__doc__', '__eq__', '__floordiv__', '__format__', '__ge__', '__getattribute__', '__getstate__', '__gt__', '__hash__', '__init__', '__init_subclass__', '__le__', '__lt__', '__mod__', '__mul__', '__ne__', '__neg__', '__new__', '__pos__', '__radd__', '__rdivmod__', '__reduce__', '__reduce_ex__', '__repr__', '__rfloordiv__', '__rmod__', '__rmul__', '__rsub__', '__rtruediv__', '__setattr__', '__sizeof__', '__str__', '__sub__', '__subclasshook__', '__truediv__', 'days', 'max', 'microseconds', 'min', 'resolution', 'seconds', 'total_seconds']\n",
      "49\n"
     ]
    }
   ],
   "source": [
    "print(dir(timedelta))\n",
    "print(len(dir(timedelta)))"
   ]
  },
  {
   "cell_type": "code",
   "execution_count": 15,
   "metadata": {},
   "outputs": [
    {
     "name": "stdout",
     "output_type": "stream",
     "text": [
      "InvalidTZPathWarning\n",
      "TZPATH\n",
      "ZoneInfo\n",
      "ZoneInfoNotFoundError\n",
      "__all__\n",
      "__builtins__\n",
      "__cached__\n",
      "__dir__\n",
      "__doc__\n",
      "__file__\n",
      "__getattr__\n",
      "__loader__\n",
      "__name__\n",
      "__package__\n",
      "__path__\n",
      "__spec__\n",
      "_common\n",
      "_tzpath\n",
      "available_timezones\n",
      "reset_tzpath\n"
     ]
    }
   ],
   "source": [
    "for cmd in dir(zoneinfo):\n",
    "    print(cmd)"
   ]
  },
  {
   "cell_type": "markdown",
   "metadata": {},
   "source": [
    "Como tudo no Python, criamos um objeto datetime e que pode ser manipulado de diversas formas"
   ]
  },
  {
   "cell_type": "code",
   "execution_count": 28,
   "metadata": {},
   "outputs": [
    {
     "data": {
      "text/plain": [
       "datetime.datetime(2024, 1, 11, 9, 49, 9, 264840)"
      ]
     },
     "execution_count": 28,
     "metadata": {},
     "output_type": "execute_result"
    }
   ],
   "source": [
    "# data -> cria um objeto com seus valores e métodos\n",
    "agora = datetime.now()\n",
    "agora                   # objeto datetime"
   ]
  },
  {
   "cell_type": "markdown",
   "metadata": {},
   "source": [
    "Algumas formas de manipulação"
   ]
  },
  {
   "cell_type": "code",
   "execution_count": 29,
   "metadata": {},
   "outputs": [
    {
     "name": "stdout",
     "output_type": "stream",
     "text": [
      "2024-01-11 09:49:09.264840\n",
      "2024-01-11\n",
      "09:49:09.264840\n"
     ]
    }
   ],
   "source": [
    "print(agora)            # exibição completa na forma padrão\n",
    "print(agora.date())     # exibir parte do objeto, no caso a data\n",
    "print(agora.time())     # exibir a hora"
   ]
  },
  {
   "cell_type": "code",
   "execution_count": 30,
   "metadata": {},
   "outputs": [
    {
     "data": {
      "text/plain": [
       "datetime.date(2024, 1, 11)"
      ]
     },
     "execution_count": 30,
     "metadata": {},
     "output_type": "execute_result"
    }
   ],
   "source": [
    "hoje = datetime.today()\n",
    "hoje.date()                 # seleção apenas da data, mas continua sendo um objeto"
   ]
  },
  {
   "cell_type": "code",
   "execution_count": 31,
   "metadata": {},
   "outputs": [
    {
     "name": "stdout",
     "output_type": "stream",
     "text": [
      "2024-01-11 09:53:15.641806\n",
      "11 1 2024\n",
      "2024-01-11\n",
      "9 53 15 641806\n",
      "09:53:15.641806\n"
     ]
    }
   ],
   "source": [
    "# valores e métodos\n",
    "print(hoje)\n",
    "print(hoje.day, hoje.month, hoje.year)\n",
    "print(hoje.date())\n",
    "print(hoje.hour, hoje.minute, hoje.second, hoje.microsecond)\n",
    "print(hoje.time())"
   ]
  },
  {
   "cell_type": "code",
   "execution_count": 43,
   "metadata": {},
   "outputs": [
    {
     "data": {
      "text/plain": [
       "datetime.timedelta(days=64, seconds=29156, microseconds=10)"
      ]
     },
     "execution_count": 43,
     "metadata": {},
     "output_type": "execute_result"
    }
   ],
   "source": [
    "delta = timedelta(\n",
    "    days=50,\n",
    "    seconds=27,\n",
    "    microseconds=10,\n",
    "    milliseconds=29000,\n",
    "    minutes=5,\n",
    "    hours=8,\n",
    "    weeks=2\n",
    ")\n",
    "# somente days, seconds, and microseconds são armazenados\n",
    "# todas as outras unidades são convertidas para estes 3\n",
    "# gerando um objeto datetime.timedelta\n",
    "delta"
   ]
  },
  {
   "cell_type": "code",
   "execution_count": 41,
   "metadata": {},
   "outputs": [
    {
     "name": "stdout",
     "output_type": "stream",
     "text": [
      "2024-01-12 09:53:15.641806\n",
      "2024-01-18\n",
      "09:53:15.642806\n",
      "09:53:15.641807\n"
     ]
    }
   ],
   "source": [
    "# operações com datetime\n",
    "amanha = hoje + timedelta(days=1)\n",
    "print(amanha)\n",
    "semana = hoje + timedelta(weeks=1)\n",
    "print(semana.date())\n",
    "semana = hoje + timedelta(milliseconds=1)\n",
    "print(semana.time())\n",
    "semana = hoje + timedelta(microseconds=1)\n",
    "print(semana.time())"
   ]
  },
  {
   "cell_type": "code",
   "execution_count": 46,
   "metadata": {},
   "outputs": [
    {
     "name": "stdout",
     "output_type": "stream",
     "text": [
      "2023-12-10 00:00:00 2023-12-13 00:00:00\n",
      "2023-12-10\n",
      "00:00:00\n"
     ]
    }
   ],
   "source": [
    "# criando data específica\n",
    "data_vencimento = datetime(year=2023, month=12, day=10)\n",
    "data_vencimento2 = datetime(2023, 12, 13)\n",
    "print(data_vencimento, data_vencimento2)\n",
    "print(data_vencimento.date())\n",
    "print(data_vencimento.time())"
   ]
  },
  {
   "cell_type": "code",
   "execution_count": 50,
   "metadata": {},
   "outputs": [
    {
     "name": "stdout",
     "output_type": "stream",
     "text": [
      "32 days, 9:53:15.641806\n",
      "<class 'datetime.timedelta'>\n",
      "32\n",
      "<class 'int'>\n"
     ]
    }
   ],
   "source": [
    "# Cálculos de deltas com datas e tempo\n",
    "atraso = hoje - data_vencimento\n",
    "print(atraso)\n",
    "print(type(atraso))\n",
    "print(atraso.days)\n",
    "print(type(atraso.days))"
   ]
  },
  {
   "cell_type": "code",
   "execution_count": 51,
   "metadata": {},
   "outputs": [
    {
     "name": "stdout",
     "output_type": "stream",
     "text": [
      "13/12/2023 13-12-2023\n",
      "<class 'str'> <class 'str'>\n"
     ]
    }
   ],
   "source": [
    "# tratando datas\n",
    "original = '13/12/2023'\n",
    "original2 = '13-12-2023'\n",
    "print(original, original2)\n",
    "print(type(original), type(original2))"
   ]
  },
  {
   "cell_type": "code",
   "execution_count": 97,
   "metadata": {},
   "outputs": [
    {
     "name": "stdout",
     "output_type": "stream",
     "text": [
      "2023-12-13 00:00:00 2023-12-13 00:00:00\n",
      "2023-12-13\n",
      "2023\n",
      "12\n",
      "13\n",
      "Wed Dec 13 00:00:00 2023\n"
     ]
    }
   ],
   "source": [
    "# capturando a data de texto para um objeto data\n",
    "capturada = datetime.strptime(original, \"%d/%m/%Y\")\n",
    "capturada2 = datetime.strptime(original2, \"%d-%m-%Y\")\n",
    "print(capturada, capturada2)\n",
    "print(capturada.date())\n",
    "print(capturada.year)\n",
    "print(capturada.month)\n",
    "print(capturada.day)\n",
    "print(capturada.ctime())"
   ]
  },
  {
   "cell_type": "code",
   "execution_count": 55,
   "metadata": {},
   "outputs": [
    {
     "name": "stdout",
     "output_type": "stream",
     "text": [
      "2022-01-31 23:59:59.999999\n"
     ]
    },
    {
     "data": {
      "text/plain": [
       "'Mon 31 Jan 2022, 11:59PM'"
      ]
     },
     "execution_count": 55,
     "metadata": {},
     "output_type": "execute_result"
    }
   ],
   "source": [
    "teste = datetime.strptime('31/01/22 23:59:59.999999',\n",
    "                  '%d/%m/%y %H:%M:%S.%f')\n",
    "print(teste)\n",
    "teste.strftime('%a %d %b %Y, %I:%M%p')      # observe que saída no que você fizer"
   ]
  },
  {
   "cell_type": "code",
   "execution_count": 58,
   "metadata": {},
   "outputs": [
    {
     "name": "stdout",
     "output_type": "stream",
     "text": [
      "Mon 31 Jan 22\n",
      "Monday 31 January 2022\n"
     ]
    }
   ],
   "source": [
    "# saída no padrão brasileiro\n",
    "print(teste.strftime('%a %d %b %y'))\n",
    "print(teste.strftime('%A %d %B %Y'))"
   ]
  },
  {
   "cell_type": "code",
   "execution_count": 42,
   "metadata": {},
   "outputs": [
    {
     "name": "stdout",
     "output_type": "stream",
     "text": [
      "17/12/2023\n",
      "23/12/17\n",
      "17.12.2023\n",
      "Sunday\n",
      "Sun\n",
      "2023-December\n",
      "2023-Dec\n"
     ]
    }
   ],
   "source": [
    "# formatando o objeto data para saída da data no formato desejado em string\n",
    "print(hoje.strftime('%d/%m/%Y'))\n",
    "print(hoje.strftime('%y/%m/%d'))\n",
    "print(hoje.strftime('%d.%m.%Y'))\n",
    "print(hoje.strftime('%A'))\n",
    "print(hoje.strftime('%a'))\n",
    "print(hoje.strftime('%Y-%B'))\n",
    "print(hoje.strftime('%Y-%b'))"
   ]
  },
  {
   "cell_type": "code",
   "execution_count": 60,
   "metadata": {},
   "outputs": [
    {
     "name": "stdout",
     "output_type": "stream",
     "text": [
      "2024-01-25 09:53:15.641806\n",
      "2024-12-11 09:53:15.641806\n",
      "2030-01-11 09:53:15.641806\n"
     ]
    }
   ],
   "source": [
    "# alterando pontualmente as informações\n",
    "data = hoje.replace(day=25)\n",
    "print(data)\n",
    "data = hoje.replace(month=12)\n",
    "print(data)\n",
    "data = hoje.replace(year=2030)\n",
    "print(data)"
   ]
  },
  {
   "cell_type": "markdown",
   "metadata": {},
   "source": [
    "### Trabalhando com Fuso Horário"
   ]
  },
  {
   "cell_type": "code",
   "execution_count": 72,
   "metadata": {},
   "outputs": [
    {
     "name": "stdout",
     "output_type": "stream",
     "text": [
      "2024-01-11 10:29:53.653718\n"
     ]
    }
   ],
   "source": [
    "# fuso horário na marra - manualmente\n",
    "hoje = datetime.today()\n",
    "hoje = hoje - timedelta(hours=1)\n",
    "print(hoje)"
   ]
  },
  {
   "cell_type": "markdown",
   "metadata": {},
   "source": [
    "#### Modo Automático\n",
    "É preciso instalar um pacote que o Python não instala automaticamente no Windows chamado `tzdata`. Esse pacote informa quais são os **Fuso horários** disponíveis.\n",
    "\n",
    "Também é necessário outro pacote chamado `zoneinfo`"
   ]
  },
  {
   "cell_type": "code",
   "execution_count": 64,
   "metadata": {},
   "outputs": [
    {
     "name": "stdout",
     "output_type": "stream",
     "text": [
      "Requirement already satisfied: tzdata in c:\\users\\renato\\appdata\\local\\programs\\python\\python312\\lib\\site-packages (2023.4)\n"
     ]
    }
   ],
   "source": [
    "! pip install tzdata"
   ]
  },
  {
   "cell_type": "code",
   "execution_count": null,
   "metadata": {},
   "outputs": [],
   "source": [
    "import zoneinfo"
   ]
  },
  {
   "cell_type": "code",
   "execution_count": 65,
   "metadata": {},
   "outputs": [
    {
     "name": "stdout",
     "output_type": "stream",
     "text": [
      "America/Catamarca\n",
      "Asia/Thimbu\n",
      "Antarctica/Davis\n",
      "Asia/Dili\n",
      "Pacific/Tongatapu\n",
      "America/Resolute\n",
      "America/Cordoba\n",
      "Asia/Tomsk\n",
      "Africa/Dar_es_Salaam\n",
      "America/Guadeloupe\n",
      "America/St_Barthelemy\n",
      "Asia/Anadyr\n",
      "Etc/GMT+3\n",
      "America/Lima\n",
      "Asia/Dushanbe\n",
      "Europe/Prague\n",
      "Atlantic/Faroe\n",
      "Libya\n",
      "Etc/GMT-5\n",
      "Etc/GMT-4\n",
      "Europe/Skopje\n",
      "Etc/UTC\n",
      "America/Winnipeg\n",
      "America/Anguilla\n",
      "Asia/Pyongyang\n",
      "Africa/Lome\n",
      "Africa/Timbuktu\n",
      "Canada/Eastern\n",
      "Asia/Tashkent\n",
      "Arctic/Longyearbyen\n",
      "America/Barbados\n",
      "America/Montevideo\n",
      "Cuba\n",
      "Europe/Tallinn\n",
      "America/Santarem\n",
      "Europe/Chisinau\n",
      "America/La_Paz\n",
      "Asia/Urumqi\n",
      "Pacific/Bougainville\n",
      "Asia/Ulan_Bator\n",
      "America/Thule\n",
      "Antarctica/DumontDUrville\n",
      "Europe/Belfast\n",
      "America/Knox_IN\n",
      "Atlantic/Bermuda\n",
      "Indian/Christmas\n",
      "Asia/Choibalsan\n",
      "America/Danmarkshavn\n",
      "Asia/Dubai\n",
      "America/Argentina/Catamarca\n",
      "Europe/Jersey\n",
      "Asia/Kolkata\n",
      "Canada/Central\n",
      "America/St_Lucia\n",
      "Etc/GMT-7\n",
      "Poland\n",
      "America/Yakutat\n",
      "US/Central\n",
      "America/Metlakatla\n",
      "Asia/Makassar\n",
      "Africa/Addis_Ababa\n",
      "America/Indiana/Petersburg\n",
      "Chile/Continental\n",
      "Europe/Istanbul\n",
      "America/Mexico_City\n",
      "America/Porto_Velho\n",
      "America/Virgin\n",
      "Asia/Kuala_Lumpur\n",
      "America/Argentina/La_Rioja\n",
      "Pacific/Niue\n",
      "America/Chicago\n",
      "Pacific/Guadalcanal\n",
      "Africa/Bangui\n",
      "Australia/ACT\n",
      "GMT\n",
      "Europe/Simferopol\n",
      "Europe/Helsinki\n",
      "Eire\n",
      "Africa/Kigali\n",
      "America/Grenada\n",
      "Canada/Mountain\n",
      "Pacific/Marquesas\n",
      "Etc/GMT0\n",
      "America/Rainy_River\n",
      "Asia/Magadan\n",
      "Europe/Astrakhan\n",
      "America/Martinique\n",
      "US/Eastern\n",
      "Africa/Lubumbashi\n",
      "US/Samoa\n",
      "Pacific/Wake\n",
      "America/Cancun\n",
      "America/Panama\n",
      "Asia/Tbilisi\n",
      "Brazil/DeNoronha\n",
      "Asia/Baku\n",
      "MST7MDT\n",
      "America/Fortaleza\n",
      "Etc/GMT+1\n",
      "NZ\n",
      "Australia/Melbourne\n",
      "America/Fort_Nelson\n",
      "America/Los_Angeles\n",
      "Europe/Madrid\n",
      "Asia/Nicosia\n",
      "Asia/Famagusta\n",
      "HST\n",
      "Antarctica/Troll\n",
      "America/Eirunepe\n",
      "Pacific/Palau\n",
      "Europe/Zurich\n",
      "Europe/Athens\n",
      "America/Vancouver\n",
      "Asia/Vientiane\n",
      "Europe/Bratislava\n",
      "Asia/Beirut\n",
      "Pacific/Fiji\n",
      "America/Monterrey\n",
      "America/Guayaquil\n",
      "America/Argentina/Jujuy\n",
      "Antarctica/Vostok\n",
      "Europe/Sofia\n",
      "Etc/GMT\n",
      "America/Manaus\n",
      "America/Mendoza\n",
      "Asia/Calcutta\n",
      "Asia/Ashkhabad\n",
      "America/Halifax\n",
      "America/Caracas\n",
      "America/Nome\n",
      "Australia/Victoria\n",
      "Pacific/Funafuti\n",
      "America/Jujuy\n",
      "America/Marigot\n",
      "Atlantic/Faeroe\n",
      "America/Indiana/Vevay\n",
      "America/Rio_Branco\n",
      "Australia/Broken_Hill\n",
      "America/Tegucigalpa\n",
      "Asia/Kuwait\n",
      "Pacific/Apia\n",
      "America/Ensenada\n",
      "America/Juneau\n",
      "Asia/Ust-Nera\n",
      "Asia/Singapore\n",
      "Europe/Paris\n",
      "Asia/Almaty\n",
      "Europe/Budapest\n",
      "GB-Eire\n",
      "Etc/Greenwich\n",
      "Indian/Comoro\n",
      "Australia/Eucla\n",
      "Indian/Kerguelen\n",
      "Brazil/Acre\n",
      "Africa/Djibouti\n",
      "Asia/Macao\n",
      "Asia/Novokuznetsk\n",
      "Europe/Berlin\n",
      "Pacific/Yap\n",
      "Canada/Yukon\n",
      "Mexico/General\n",
      "Europe/Tirane\n",
      "MST\n",
      "Africa/Ouagadougou\n",
      "America/Indiana/Indianapolis\n",
      "Africa/Tripoli\n",
      "Etc/GMT+5\n",
      "Asia/Barnaul\n",
      "Antarctica/Syowa\n",
      "America/Noronha\n",
      "Africa/Algiers\n",
      "Africa/Maseru\n",
      "America/New_York\n",
      "Asia/Dacca\n",
      "Asia/Yerevan\n",
      "America/Guatemala\n",
      "Indian/Mahe\n",
      "America/El_Salvador\n",
      "Etc/GMT-14\n",
      "Asia/Damascus\n",
      "Africa/Asmera\n",
      "US/Pacific\n",
      "America/Phoenix\n",
      "America/Sitka\n",
      "Asia/Novosibirsk\n",
      "Africa/Accra\n",
      "Pacific/Majuro\n",
      "Asia/Shanghai\n",
      "Africa/Mbabane\n",
      "Asia/Aqtau\n",
      "America/Indiana/Winamac\n",
      "America/Dawson\n",
      "Europe/Vaduz\n",
      "Europe/Uzhgorod\n",
      "Pacific/Noumea\n",
      "America/Guyana\n",
      "Australia/Brisbane\n",
      "Asia/Kashgar\n",
      "Pacific/Norfolk\n",
      "GMT+0\n",
      "Pacific/Gambier\n",
      "Africa/Maputo\n",
      "W-SU\n",
      "Asia/Kuching\n",
      "America/Punta_Arenas\n",
      "Asia/Ujung_Pandang\n",
      "Pacific/Kiritimati\n",
      "Europe/Riga\n",
      "Asia/Tel_Aviv\n",
      "America/Moncton\n",
      "Pacific/Midway\n",
      "America/Ojinaga\n",
      "Etc/GMT+4\n",
      "PST8PDT\n",
      "America/Argentina/Ushuaia\n",
      "Portugal\n",
      "Asia/Saigon\n",
      "America/Yellowknife\n",
      "Atlantic/Azores\n",
      "America/Indiana/Marengo\n",
      "Asia/Chongqing\n",
      "Asia/Baghdad\n",
      "Asia/Istanbul\n",
      "Europe/Samara\n",
      "America/Costa_Rica\n",
      "Pacific/Johnston\n",
      "Factory\n",
      "Europe/Luxembourg\n",
      "US/Michigan\n",
      "Pacific/Kanton\n",
      "Israel\n",
      "Africa/Juba\n",
      "Etc/GMT-2\n",
      "Asia/Hovd\n",
      "America/Atka\n",
      "Europe/Ljubljana\n",
      "Pacific/Tahiti\n",
      "America/Dawson_Creek\n",
      "Pacific/Wallis\n",
      "Etc/GMT-13\n",
      "America/Maceio\n",
      "Turkey\n",
      "America/Indianapolis\n",
      "America/Aruba\n",
      "Antarctica/Palmer\n",
      "America/Adak\n",
      "Europe/Warsaw\n",
      "Europe/Vatican\n",
      "America/Boa_Vista\n",
      "America/Blanc-Sablon\n",
      "America/Curacao\n",
      "Asia/Qyzylorda\n",
      "Pacific/Galapagos\n",
      "Europe/Monaco\n",
      "Chile/EasterIsland\n",
      "Etc/GMT-6\n",
      "Canada/Pacific\n",
      "EET\n",
      "America/Glace_Bay\n",
      "America/Port_of_Spain\n",
      "Asia/Kathmandu\n",
      "Asia/Yekaterinburg\n",
      "Europe/Tiraspol\n",
      "Asia/Rangoon\n",
      "Asia/Brunei\n",
      "US/Hawaii\n",
      "America/St_Vincent\n",
      "Australia/Yancowinna\n",
      "Etc/Universal\n",
      "Europe/Ulyanovsk\n",
      "America/Boise\n",
      "Jamaica\n",
      "Europe/Moscow\n",
      "Asia/Kabul\n",
      "Africa/Porto-Novo\n",
      "Universal\n",
      "America/Lower_Princes\n",
      "Asia/Bishkek\n",
      "America/Matamoros\n",
      "Greenwich\n",
      "Indian/Maldives\n",
      "America/Santiago\n",
      "Asia/Khandyga\n",
      "Etc/GMT-1\n",
      "Europe/Kiev\n",
      "America/Argentina/San_Luis\n",
      "Africa/Windhoek\n",
      "America/Puerto_Rico\n",
      "Egypt\n",
      "Africa/El_Aaiun\n",
      "America/Araguaina\n",
      "US/Indiana-Starke\n",
      "Indian/Reunion\n",
      "Asia/Ulaanbaatar\n",
      "Europe/Isle_of_Man\n",
      "Australia/Tasmania\n",
      "Etc/UCT\n",
      "Asia/Yangon\n",
      "America/Merida\n",
      "Asia/Qostanay\n",
      "America/Rosario\n",
      "Africa/Malabo\n",
      "NZ-CHAT\n",
      "Singapore\n",
      "Australia/Sydney\n",
      "Asia/Krasnoyarsk\n",
      "US/Alaska\n",
      "Asia/Gaza\n",
      "Etc/GMT-9\n",
      "America/Cayman\n",
      "Brazil/West\n",
      "Australia/Lord_Howe\n",
      "Africa/Lagos\n",
      "Africa/Lusaka\n",
      "America/Dominica\n",
      "Africa/Brazzaville\n",
      "GMT-0\n",
      "America/Managua\n",
      "Antarctica/Macquarie\n",
      "Europe/Gibraltar\n",
      "Africa/Abidjan\n",
      "Africa/Harare\n",
      "Hongkong\n",
      "Asia/Ho_Chi_Minh\n",
      "Asia/Taipei\n",
      "Asia/Manila\n",
      "Zulu\n",
      "GB\n",
      "Pacific/Kosrae\n",
      "Europe/Nicosia\n",
      "Asia/Omsk\n",
      "Australia/Queensland\n",
      "America/Argentina/Salta\n",
      "Canada/Saskatchewan\n",
      "America/St_Kitts\n",
      "Antarctica/McMurdo\n",
      "Africa/Niamey\n",
      "Africa/Mogadishu\n",
      "Australia/Lindeman\n",
      "America/Menominee\n",
      "America/Creston\n",
      "Africa/Kinshasa\n",
      "America/Jamaica\n",
      "EST5EDT\n",
      "Indian/Mauritius\n",
      "Africa/Johannesburg\n",
      "America/Indiana/Knox\n",
      "America/Rankin_Inlet\n",
      "UCT\n",
      "Asia/Harbin\n",
      "Europe/Brussels\n",
      "Europe/Vilnius\n",
      "Asia/Thimphu\n",
      "America/Detroit\n",
      "America/Ciudad_Juarez\n",
      "Australia/Currie\n",
      "America/Belize\n",
      "Indian/Chagos\n",
      "Atlantic/St_Helena\n",
      "Australia/Adelaide\n",
      "Asia/Amman\n",
      "America/Shiprock\n",
      "America/Argentina/Rio_Gallegos\n",
      "America/Tortola\n",
      "Asia/Dhaka\n",
      "US/East-Indiana\n",
      "GMT0\n",
      "America/Fort_Wayne\n",
      "America/Pangnirtung\n",
      "America/Louisville\n",
      "America/Santa_Isabel\n",
      "WET\n",
      "Atlantic/Stanley\n",
      "Asia/Phnom_Penh\n",
      "US/Arizona\n",
      "Iran\n",
      "Pacific/Rarotonga\n",
      "America/Sao_Paulo\n",
      "Europe/Copenhagen\n",
      "Etc/GMT-8\n",
      "Pacific/Enderbury\n",
      "Asia/Samarkand\n",
      "Etc/GMT-10\n",
      "Etc/GMT-0\n",
      "Europe/Guernsey\n",
      "Pacific/Chatham\n",
      "Antarctica/Casey\n",
      "ROK\n",
      "Atlantic/Canary\n",
      "America/Grand_Turk\n",
      "Etc/GMT+7\n",
      "Atlantic/Cape_Verde\n",
      "Indian/Antananarivo\n",
      "Africa/Luanda\n",
      "Australia/Canberra\n",
      "Europe/San_Marino\n",
      "Europe/Rome\n",
      "America/Denver\n",
      "Asia/Muscat\n",
      "America/Hermosillo\n",
      "Canada/Atlantic\n",
      "America/Toronto\n",
      "America/Mazatlan\n",
      "Africa/Sao_Tome\n",
      "Europe/Kaliningrad\n",
      "America/Regina\n",
      "US/Mountain\n",
      "Asia/Oral\n",
      "Asia/Jayapura\n",
      "CST6CDT\n",
      "America/St_Thomas\n",
      "Etc/GMT+9\n",
      "Asia/Qatar\n",
      "Etc/GMT+11\n",
      "Africa/Ndjamena\n",
      "Europe/Amsterdam\n",
      "Asia/Tehran\n",
      "Asia/Katmandu\n",
      "Etc/Zulu\n",
      "Africa/Gaborone\n",
      "Africa/Asmara\n",
      "Brazil/East\n",
      "Africa/Libreville\n",
      "Pacific/Auckland\n",
      "Etc/GMT+12\n",
      "America/Argentina/Tucuman\n",
      "Africa/Khartoum\n",
      "Etc/GMT+10\n",
      "UTC\n",
      "America/Nuuk\n",
      "Europe/Sarajevo\n",
      "Africa/Bissau\n",
      "America/Kentucky/Monticello\n",
      "America/Tijuana\n",
      "America/Recife\n",
      "Asia/Bangkok\n",
      "Navajo\n",
      "Atlantic/Madeira\n",
      "Europe/Kirov\n",
      "Indian/Cocos\n",
      "Asia/Yakutsk\n",
      "America/Kentucky/Louisville\n",
      "Asia/Sakhalin\n",
      "Asia/Pontianak\n",
      "Pacific/Easter\n",
      "Antarctica/Rothera\n",
      "Australia/South\n",
      "America/Nassau\n",
      "America/Miquelon\n",
      "Africa/Cairo\n",
      "America/Havana\n",
      "America/Iqaluit\n",
      "Pacific/Port_Moresby\n",
      "Australia/North\n",
      "America/Bahia_Banderas\n",
      "America/Montserrat\n",
      "Asia/Colombo\n",
      "America/St_Johns\n",
      "Australia/Darwin\n",
      "Africa/Conakry\n",
      "Africa/Freetown\n",
      "Europe/Saratov\n",
      "Asia/Vladivostok\n",
      "Africa/Blantyre\n",
      "Asia/Macau\n",
      "America/Whitehorse\n",
      "Pacific/Tarawa\n",
      "Europe/Zagreb\n",
      "Australia/NSW\n",
      "Australia/LHI\n",
      "Europe/Mariehamn\n",
      "America/Scoresbysund\n",
      "CET\n",
      "Africa/Ceuta\n",
      "Europe/Stockholm\n",
      "Europe/Andorra\n",
      "Asia/Irkutsk\n",
      "America/Cuiaba\n",
      "Europe/London\n",
      "Australia/Perth\n",
      "America/Edmonton\n",
      "America/Swift_Current\n",
      "Africa/Casablanca\n",
      "US/Aleutian\n",
      "Europe/Minsk\n",
      "Africa/Kampala\n",
      "Europe/Podgorica\n",
      "Asia/Riyadh\n",
      "America/Belem\n",
      "Etc/GMT-11\n",
      "Pacific/Saipan\n",
      "America/Bahia\n",
      "America/Indiana/Tell_City\n",
      "Iceland\n",
      "America/Port-au-Prince\n",
      "Etc/GMT-12\n",
      "America/Kralendijk\n",
      "America/Porto_Acre\n",
      "America/Godthab\n",
      "Australia/Hobart\n",
      "Europe/Dublin\n",
      "America/North_Dakota/Beulah\n",
      "Africa/Nairobi\n",
      "America/Nipigon\n",
      "Africa/Bujumbura\n",
      "MET\n",
      "America/Cambridge_Bay\n",
      "America/North_Dakota/New_Salem\n",
      "America/Bogota\n",
      "Asia/Jakarta\n",
      "America/Argentina/Mendoza\n",
      "Etc/GMT-3\n",
      "Pacific/Guam\n",
      "Africa/Banjul\n",
      "Pacific/Chuuk\n",
      "Asia/Chungking\n",
      "America/Atikokan\n",
      "Kwajalein\n",
      "Europe/Vienna\n",
      "Japan\n",
      "Africa/Nouakchott\n",
      "Atlantic/South_Georgia\n",
      "Pacific/Pitcairn\n",
      "America/Thunder_Bay\n",
      "America/Inuvik\n",
      "Indian/Mayotte\n",
      "Pacific/Pohnpei\n",
      "Europe/Busingen\n",
      "Asia/Bahrain\n",
      "Mexico/BajaNorte\n",
      "Atlantic/Reykjavik\n",
      "Pacific/Truk\n",
      "Pacific/Samoa\n",
      "Europe/Bucharest\n",
      "Australia/West\n",
      "Antarctica/South_Pole\n",
      "Pacific/Pago_Pago\n",
      "America/Argentina/Cordoba\n",
      "America/Argentina/San_Juan\n",
      "Etc/GMT+8\n",
      "America/North_Dakota/Center\n",
      "ROC\n",
      "Africa/Douala\n",
      "Asia/Hebron\n",
      "Pacific/Efate\n",
      "Africa/Bamako\n",
      "America/Antigua\n",
      "Africa/Dakar\n",
      "Pacific/Ponape\n",
      "Pacific/Nauru\n",
      "America/Cayenne\n",
      "America/Chihuahua\n",
      "America/Montreal\n",
      "Asia/Kamchatka\n",
      "America/Asuncion\n",
      "Asia/Hong_Kong\n",
      "Asia/Seoul\n",
      "Asia/Chita\n",
      "Asia/Atyrau\n",
      "Europe/Lisbon\n",
      "Europe/Belgrade\n",
      "EST\n",
      "America/Coral_Harbour\n",
      "Asia/Aqtobe\n",
      "Europe/Zaporozhye\n",
      "America/Indiana/Vincennes\n",
      "Asia/Aden\n",
      "America/Paramaribo\n",
      "Africa/Monrovia\n",
      "Europe/Malta\n",
      "America/Argentina/Buenos_Aires\n",
      "Europe/Oslo\n",
      "Asia/Srednekolymsk\n",
      "Canada/Newfoundland\n",
      "Europe/Volgograd\n",
      "America/Buenos_Aires\n",
      "America/Campo_Grande\n",
      "America/Santo_Domingo\n",
      "Asia/Jerusalem\n",
      "Mexico/BajaSur\n",
      "Pacific/Honolulu\n",
      "Etc/GMT+6\n",
      "Etc/GMT+0\n",
      "Europe/Kyiv\n",
      "Pacific/Fakaofo\n",
      "Atlantic/Jan_Mayen\n",
      "Etc/GMT+2\n",
      "PRC\n",
      "Antarctica/Mawson\n",
      "Asia/Ashgabat\n",
      "Pacific/Kwajalein\n",
      "Africa/Tunis\n",
      "America/Goose_Bay\n",
      "Asia/Karachi\n",
      "America/Argentina/ComodRivadavia\n",
      "America/Anchorage\n",
      "Asia/Tokyo\n"
     ]
    }
   ],
   "source": [
    "# agora com o tzdata instalado conseguimos ver os fusos disponíveis\n",
    "for fuso in zoneinfo.available_timezones():\n",
    "    print(fuso)"
   ]
  },
  {
   "cell_type": "code",
   "execution_count": 66,
   "metadata": {},
   "outputs": [
    {
     "name": "stdout",
     "output_type": "stream",
     "text": [
      "Europe/Prague\n",
      "Europe/Skopje\n",
      "Europe/Tallinn\n",
      "Europe/Chisinau\n",
      "Europe/Belfast\n",
      "Europe/Jersey\n",
      "Europe/Istanbul\n",
      "Europe/Simferopol\n",
      "Europe/Helsinki\n",
      "Europe/Astrakhan\n",
      "Europe/Madrid\n",
      "Europe/Zurich\n",
      "Europe/Athens\n",
      "Europe/Bratislava\n",
      "Europe/Sofia\n",
      "Europe/Paris\n",
      "Europe/Budapest\n",
      "Europe/Berlin\n",
      "Europe/Tirane\n",
      "Europe/Vaduz\n",
      "Europe/Uzhgorod\n",
      "Europe/Riga\n",
      "Europe/Samara\n",
      "Europe/Luxembourg\n",
      "Europe/Ljubljana\n",
      "Europe/Warsaw\n",
      "Europe/Vatican\n",
      "Europe/Monaco\n",
      "Europe/Tiraspol\n",
      "Europe/Ulyanovsk\n",
      "Europe/Moscow\n",
      "Europe/Kiev\n",
      "Europe/Isle_of_Man\n",
      "Europe/Gibraltar\n",
      "Europe/Nicosia\n",
      "Europe/Brussels\n",
      "Europe/Vilnius\n",
      "Europe/Copenhagen\n",
      "Europe/Guernsey\n",
      "Europe/San_Marino\n",
      "Europe/Rome\n",
      "Europe/Kaliningrad\n",
      "Europe/Amsterdam\n",
      "Europe/Sarajevo\n",
      "Europe/Kirov\n",
      "Europe/Saratov\n",
      "Europe/Zagreb\n",
      "Europe/Mariehamn\n",
      "Europe/Stockholm\n",
      "Europe/Andorra\n",
      "Europe/London\n",
      "Europe/Minsk\n",
      "Europe/Podgorica\n",
      "Europe/Dublin\n",
      "Europe/Vienna\n",
      "Europe/Busingen\n",
      "Europe/Bucharest\n",
      "Europe/Lisbon\n",
      "Europe/Belgrade\n",
      "Europe/Zaporozhye\n",
      "Europe/Malta\n",
      "Europe/Oslo\n",
      "Europe/Volgograd\n",
      "Europe/Kyiv\n"
     ]
    }
   ],
   "source": [
    "for time in zoneinfo.available_timezones():\n",
    "    if time.startswith('Europe'):\n",
    "        print(time)"
   ]
  },
  {
   "cell_type": "code",
   "execution_count": 69,
   "metadata": {},
   "outputs": [
    {
     "name": "stdout",
     "output_type": "stream",
     "text": [
      "America/Catamarca\n",
      "America/Resolute\n",
      "America/Cordoba\n",
      "America/Guadeloupe\n",
      "America/St_Barthelemy\n",
      "America/Lima\n",
      "America/Winnipeg\n",
      "America/Anguilla\n",
      "America/Barbados\n",
      "America/Montevideo\n",
      "America/Santarem\n",
      "America/La_Paz\n",
      "America/Thule\n",
      "America/Knox_IN\n",
      "America/Danmarkshavn\n",
      "America/Argentina/Catamarca\n",
      "America/St_Lucia\n",
      "America/Yakutat\n",
      "America/Metlakatla\n",
      "America/Indiana/Petersburg\n",
      "America/Mexico_City\n",
      "America/Porto_Velho\n",
      "America/Virgin\n",
      "America/Argentina/La_Rioja\n",
      "America/Chicago\n",
      "America/Grenada\n",
      "America/Rainy_River\n",
      "America/Martinique\n",
      "America/Cancun\n",
      "America/Panama\n",
      "America/Fortaleza\n",
      "America/Fort_Nelson\n",
      "America/Los_Angeles\n",
      "America/Eirunepe\n",
      "America/Vancouver\n",
      "America/Monterrey\n",
      "America/Guayaquil\n",
      "America/Argentina/Jujuy\n",
      "America/Manaus\n",
      "America/Mendoza\n",
      "America/Halifax\n",
      "America/Caracas\n",
      "America/Nome\n",
      "America/Jujuy\n",
      "America/Marigot\n",
      "America/Indiana/Vevay\n",
      "America/Rio_Branco\n",
      "America/Tegucigalpa\n",
      "America/Ensenada\n",
      "America/Juneau\n",
      "America/Indiana/Indianapolis\n",
      "America/Noronha\n",
      "America/New_York\n",
      "America/Guatemala\n",
      "America/El_Salvador\n",
      "America/Phoenix\n",
      "America/Sitka\n",
      "America/Indiana/Winamac\n",
      "America/Dawson\n",
      "America/Guyana\n",
      "America/Punta_Arenas\n",
      "America/Moncton\n",
      "America/Ojinaga\n",
      "America/Argentina/Ushuaia\n",
      "America/Yellowknife\n",
      "America/Indiana/Marengo\n",
      "America/Costa_Rica\n",
      "America/Atka\n",
      "America/Dawson_Creek\n",
      "America/Maceio\n",
      "America/Indianapolis\n",
      "America/Aruba\n",
      "America/Adak\n",
      "America/Boa_Vista\n",
      "America/Blanc-Sablon\n",
      "America/Curacao\n",
      "America/Glace_Bay\n",
      "America/Port_of_Spain\n",
      "America/St_Vincent\n",
      "America/Boise\n",
      "America/Lower_Princes\n",
      "America/Matamoros\n",
      "America/Santiago\n",
      "America/Argentina/San_Luis\n",
      "America/Puerto_Rico\n",
      "America/Araguaina\n",
      "America/Merida\n",
      "America/Rosario\n",
      "America/Cayman\n",
      "America/Dominica\n",
      "America/Managua\n",
      "America/Argentina/Salta\n",
      "America/St_Kitts\n",
      "America/Menominee\n",
      "America/Creston\n",
      "America/Jamaica\n",
      "America/Indiana/Knox\n",
      "America/Rankin_Inlet\n",
      "America/Detroit\n",
      "America/Ciudad_Juarez\n",
      "America/Belize\n",
      "America/Shiprock\n",
      "America/Argentina/Rio_Gallegos\n",
      "America/Tortola\n",
      "America/Fort_Wayne\n",
      "America/Pangnirtung\n",
      "America/Louisville\n",
      "America/Santa_Isabel\n",
      "America/Sao_Paulo\n",
      "America/Grand_Turk\n",
      "America/Denver\n",
      "America/Hermosillo\n",
      "America/Toronto\n",
      "America/Mazatlan\n",
      "America/Regina\n",
      "America/St_Thomas\n",
      "America/Argentina/Tucuman\n",
      "America/Nuuk\n",
      "America/Kentucky/Monticello\n",
      "America/Tijuana\n",
      "America/Recife\n",
      "America/Kentucky/Louisville\n",
      "America/Nassau\n",
      "America/Miquelon\n",
      "America/Havana\n",
      "America/Iqaluit\n",
      "America/Bahia_Banderas\n",
      "America/Montserrat\n",
      "America/St_Johns\n",
      "America/Whitehorse\n",
      "America/Scoresbysund\n",
      "America/Cuiaba\n",
      "America/Edmonton\n",
      "America/Swift_Current\n",
      "America/Belem\n",
      "America/Bahia\n",
      "America/Indiana/Tell_City\n",
      "America/Port-au-Prince\n",
      "America/Kralendijk\n",
      "America/Porto_Acre\n",
      "America/Godthab\n",
      "America/North_Dakota/Beulah\n",
      "America/Nipigon\n",
      "America/Cambridge_Bay\n",
      "America/North_Dakota/New_Salem\n",
      "America/Bogota\n",
      "America/Argentina/Mendoza\n",
      "America/Atikokan\n",
      "America/Thunder_Bay\n",
      "America/Inuvik\n",
      "America/Argentina/Cordoba\n",
      "America/Argentina/San_Juan\n",
      "America/North_Dakota/Center\n",
      "America/Antigua\n",
      "America/Cayenne\n",
      "America/Chihuahua\n",
      "America/Montreal\n",
      "America/Asuncion\n",
      "America/Coral_Harbour\n",
      "America/Indiana/Vincennes\n",
      "America/Paramaribo\n",
      "America/Argentina/Buenos_Aires\n",
      "America/Buenos_Aires\n",
      "America/Campo_Grande\n",
      "America/Santo_Domingo\n",
      "America/Goose_Bay\n",
      "America/Argentina/ComodRivadavia\n",
      "America/Anchorage\n"
     ]
    }
   ],
   "source": [
    "for time in zoneinfo.available_timezones():\n",
    "    if time.startswith('America'):\n",
    "        print(time)"
   ]
  },
  {
   "cell_type": "code",
   "execution_count": 70,
   "metadata": {},
   "outputs": [
    {
     "name": "stdout",
     "output_type": "stream",
     "text": [
      "America/Sao_Paulo\n"
     ]
    }
   ],
   "source": [
    "for time in zoneinfo.available_timezones():\n",
    "    if time.endswith('Paulo'):\n",
    "        print(time)"
   ]
  },
  {
   "cell_type": "code",
   "execution_count": 73,
   "metadata": {},
   "outputs": [
    {
     "name": "stdout",
     "output_type": "stream",
     "text": [
      "2024-01-11 14:30:48.367323+00:00\n"
     ]
    }
   ],
   "source": [
    "#selecionando a hora em determinado fuso\n",
    "zona = zoneinfo.ZoneInfo('Europe/Lisbon')\n",
    "lisboa = datetime.now().astimezone(zona)\n",
    "print(lisboa)"
   ]
  },
  {
   "cell_type": "code",
   "execution_count": 74,
   "metadata": {},
   "outputs": [
    {
     "name": "stdout",
     "output_type": "stream",
     "text": [
      "2024-01-11 11:30:48.367323-03:00\n"
     ]
    }
   ],
   "source": [
    "# convertendo para outro fuso\n",
    "zona = zoneinfo.ZoneInfo('America/Sao_Paulo')\n",
    "spo = lisboa.astimezone(zona)\n",
    "print(spo)"
   ]
  },
  {
   "cell_type": "markdown",
   "metadata": {},
   "source": [
    "#### Aplicação no registro de logs de atualizações ou operações"
   ]
  },
  {
   "cell_type": "code",
   "execution_count": 113,
   "metadata": {},
   "outputs": [],
   "source": [
    "registros = []\n",
    "\n",
    "reg = None\n",
    "\n",
    "while reg != '':\n",
    "    reg = input('Digite seu comentário: ')\n",
    "    time = datetime.now()\n",
    "    registros.append((time, reg))     # em tupla pq ela é imutável\n"
   ]
  },
  {
   "cell_type": "code",
   "execution_count": 115,
   "metadata": {},
   "outputs": [
    {
     "name": "stdout",
     "output_type": "stream",
     "text": [
      "2023-12-17 20:57:26.539668\n",
      ">>> olá\n",
      "2023-12-17 20:57:31.216378\n",
      ">>> tudo bem?\n",
      "2023-12-17 20:57:35.771307\n",
      ">>> login\n",
      "2023-12-17 20:57:42.383594\n",
      ">>> aprovado\n",
      "2023-12-17 20:57:45.680306\n",
      ">>> pesquisa\n",
      "2023-12-17 20:57:50.121782\n",
      ">>> resposta\n",
      "2023-12-17 20:57:54.935473\n",
      ">>> logout\n"
     ]
    }
   ],
   "source": [
    "for reg in registros[:-1]:\n",
    "    print(reg[0], '>>> '+ reg[1], sep='\\n')\n"
   ]
  }
 ],
 "metadata": {
  "kernelspec": {
   "display_name": "Python 3",
   "language": "python",
   "name": "python3"
  },
  "language_info": {
   "codemirror_mode": {
    "name": "ipython",
    "version": 3
   },
   "file_extension": ".py",
   "mimetype": "text/x-python",
   "name": "python",
   "nbconvert_exporter": "python",
   "pygments_lexer": "ipython3",
   "version": "3.12.1"
  }
 },
 "nbformat": 4,
 "nbformat_minor": 2
}

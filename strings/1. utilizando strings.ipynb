{
 "cells": [
  {
   "cell_type": "code",
   "execution_count": 3,
   "metadata": {},
   "outputs": [
    {
     "name": "stdout",
     "output_type": "stream",
     "text": [
      "54 54.0 54\n",
      "<class 'int'> <class 'float'> <class 'str'>\n",
      "162 162.0 545454\n"
     ]
    }
   ],
   "source": [
    "# diferenças entre os tipos primitivos de dados\n",
    "var_int = 54\n",
    "var_float = 54.0\n",
    "var_str = '54'\n",
    "print(var_int, var_float, var_str)\n",
    "print(type(var_int), type(var_float), type(var_str))\n",
    "print(var_int * 3, var_float * 3, var_str * 3)"
   ]
  },
  {
   "cell_type": "code",
   "execution_count": 5,
   "metadata": {},
   "outputs": [
    {
     "name": "stdout",
     "output_type": "stream",
     "text": [
      "RenatoRenatoRenato\n",
      "Renato\n",
      "RenatoRenato\n"
     ]
    }
   ],
   "source": [
    "nome = 'Renato'\n",
    "print(nome * 3)\n",
    "print(nome)\n",
    "nome_duplicado = nome * 2\n",
    "print(nome_duplicado)"
   ]
  },
  {
   "cell_type": "code",
   "execution_count": 16,
   "metadata": {},
   "outputs": [
    {
     "name": "stdout",
     "output_type": "stream",
     "text": [
      "renato\n",
      "Renato\n",
      "RENATO\n",
      "                 renato                 \n",
      "*****************renato*****************\n",
      "1\n",
      "4\n",
      "-1\n",
      "3\n",
      "1renato2renato3\n"
     ]
    }
   ],
   "source": [
    "# métodos\n",
    "nome = 'renato'\n",
    "print(nome)\n",
    "print(nome.capitalize())\n",
    "print(nome.upper())\n",
    "print(nome.center(40))\n",
    "print(nome.center(40, '*'))\n",
    "print(nome.count('r'))\n",
    "print(nome.find('t'))\n",
    "print(nome.find('z'))\n",
    "print(nome.find('ato'))\n",
    "print(nome.join('123'))"
   ]
  },
  {
   "cell_type": "code",
   "execution_count": 19,
   "metadata": {},
   "outputs": [
    {
     "data": {
      "text/plain": [
       "True"
      ]
     },
     "execution_count": 19,
     "metadata": {},
     "output_type": "execute_result"
    }
   ],
   "source": [
    "texto = 'spj 234 pge'\n",
    "'pge'.upper() in texto.upper()"
   ]
  },
  {
   "cell_type": "code",
   "execution_count": 20,
   "metadata": {},
   "outputs": [],
   "source": [
    "# importando as bibliotecas\n",
    "from pathlib import Path\n",
    "from collections import Counter"
   ]
  },
  {
   "cell_type": "code",
   "execution_count": 21,
   "metadata": {},
   "outputs": [],
   "source": [
    "entrada = Path(r'D:/Projetos/cecop/relatorio_cpj/data_in')\n",
    "saida = Path(r'D:/Projetos/cecop/relatorio_cpj/data_out')"
   ]
  },
  {
   "cell_type": "code",
   "execution_count": 23,
   "metadata": {},
   "outputs": [
    {
     "data": {
      "text/plain": [
       "[WindowsPath('D:/Projetos/cecop/relatorio_cpj/data_in/CPJ PGE 11-2023.csv'),\n",
       " WindowsPath('D:/Projetos/cecop/relatorio_cpj/data_in/CPJ SANTOS 11-2023.csv')]"
      ]
     },
     "execution_count": 23,
     "metadata": {},
     "output_type": "execute_result"
    }
   ],
   "source": [
    "lista = [arq for arq in entrada.glob('*') if arq.is_file()]\n",
    "lista"
   ]
  },
  {
   "cell_type": "code",
   "execution_count": 26,
   "metadata": {},
   "outputs": [
    {
     "data": {
      "text/plain": [
       "[WindowsPath('D:/Projetos/cecop/relatorio_cpj/data_in/CPJ PGE 11-2023.csv'),\n",
       " WindowsPath('D:/Projetos/cecop/relatorio_cpj/data_in/CPJ SANTOS 11-2023.csv')]"
      ]
     },
     "execution_count": 26,
     "metadata": {},
     "output_type": "execute_result"
    }
   ],
   "source": [
    "lista = [arq for arq in entrada.iterdir() if arq.is_file()]\n",
    "lista"
   ]
  },
  {
   "cell_type": "code",
   "execution_count": 24,
   "metadata": {},
   "outputs": [
    {
     "name": "stdout",
     "output_type": "stream",
     "text": [
      "Escolha a CPJ a analisar:\n",
      "    [ 1 ] CPJ Santos\n",
      "    [ 2 ] CPJ Praia Grande\n",
      "Digite o nº escolhido:\n"
     ]
    }
   ],
   "source": [
    "# seleção de qual cidade deve ser feito a análise - entrada do usuário\n",
    "municipio = 0\n",
    "print('''Escolha a CPJ a analisar:\n",
    "    [ 1 ] CPJ Santos\n",
    "    [ 2 ] CPJ Praia Grande\n",
    "Digite o nº escolhido:''')\n",
    "try:\n",
    "    while municipio != 1 and municipio != 2:\n",
    "        municipio = int(input())\n",
    "except:\n",
    "    print('Opção inválida!')\n",
    "\n",
    "# validação da entrada do usuário\n",
    "if municipio == 1:\n",
    "    municipio = 'STS'\n",
    "elif municipio == 2:\n",
    "    municipio = 'PGE'\n",
    "else:\n",
    "    print('Algum erro ocorreu na seleção do município')\n"
   ]
  },
  {
   "cell_type": "code",
   "execution_count": 25,
   "metadata": {},
   "outputs": [
    {
     "data": {
      "text/plain": [
       "'STS'"
      ]
     },
     "execution_count": 25,
     "metadata": {},
     "output_type": "execute_result"
    }
   ],
   "source": [
    "municipio"
   ]
  },
  {
   "cell_type": "code",
   "execution_count": 35,
   "metadata": {},
   "outputs": [
    {
     "name": "stdout",
     "output_type": "stream",
     "text": [
      "D:\\Projetos\\cecop\\relatorio_cpj\\data_in\\CPJ PGE 11-2023.csv\n",
      "True\n",
      "D:\\Projetos\\cecop\\relatorio_cpj\\data_in\\CPJ SANTOS 11-2023.csv\n",
      "False\n"
     ]
    }
   ],
   "source": [
    "\n",
    "for arquivo in entrada.iterdir():\n",
    "    print(str(arquivo))\n",
    "    print(municipio.upper() in str(arquivo))\n",
    "\n",
    "#    if f'{municipio}' in str(arquivo).upper():\n",
    "#        nome_do_arquivo = Path(arquivo)"
   ]
  }
 ],
 "metadata": {
  "kernelspec": {
   "display_name": "Python 3",
   "language": "python",
   "name": "python3"
  },
  "language_info": {
   "codemirror_mode": {
    "name": "ipython",
    "version": 3
   },
   "file_extension": ".py",
   "mimetype": "text/x-python",
   "name": "python",
   "nbconvert_exporter": "python",
   "pygments_lexer": "ipython3",
   "version": "3.12.1"
  }
 },
 "nbformat": 4,
 "nbformat_minor": 2
}

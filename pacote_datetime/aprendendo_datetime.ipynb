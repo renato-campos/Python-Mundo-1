{
 "cells": [
  {
   "cell_type": "markdown",
   "metadata": {},
   "source": [
    "# Biblioteca Datetime\n",
    "\n",
    "Como trabalhar com *datas e tempo* no Python\n",
    "\n",
    "link: https://docs.python.org/pt-br/3/library/datetime.html"
   ]
  },
  {
   "cell_type": "markdown",
   "metadata": {},
   "source": [
    "Talvez seja necessário instalar esse pacote no python, pois ele contém as informações sobre as Zonas de fuso horário do mundo"
   ]
  },
  {
   "cell_type": "code",
   "execution_count": 89,
   "metadata": {},
   "outputs": [],
   "source": [
    "#! pip install tzdata"
   ]
  },
  {
   "cell_type": "markdown",
   "metadata": {},
   "source": [
    "#### Importação dos pacotes a serem usados\n",
    "* datetime -> para manipulação das datas e tempo\n",
    "* date -> para manipulação de apenas datas\n",
    "* time -> para manipulação de apenas tempo\n",
    "* timedelta -> para fazer cálculos envolvendo datas e horas (deltas)\n",
    "* zoneinfo -> para manipular fusos horários"
   ]
  },
  {
   "cell_type": "code",
   "execution_count": 1,
   "metadata": {},
   "outputs": [],
   "source": [
    "from datetime import datetime, timedelta\n",
    "import zoneinfo"
   ]
  },
  {
   "cell_type": "code",
   "execution_count": 2,
   "metadata": {},
   "outputs": [
    {
     "name": "stdout",
     "output_type": "stream",
     "text": [
      "['__add__', '__class__', '__delattr__', '__dir__', '__doc__', '__eq__', '__format__', '__ge__', '__getattribute__', '__getstate__', '__gt__', '__hash__', '__init__', '__init_subclass__', '__le__', '__lt__', '__ne__', '__new__', '__radd__', '__reduce__', '__reduce_ex__', '__repr__', '__rsub__', '__setattr__', '__sizeof__', '__str__', '__sub__', '__subclasshook__', 'astimezone', 'combine', 'ctime', 'date', 'day', 'dst', 'fold', 'fromisocalendar', 'fromisoformat', 'fromordinal', 'fromtimestamp', 'hour', 'isocalendar', 'isoformat', 'isoweekday', 'max', 'microsecond', 'min', 'minute', 'month', 'now', 'replace', 'resolution', 'second', 'strftime', 'strptime', 'time', 'timestamp', 'timetuple', 'timetz', 'today', 'toordinal', 'tzinfo', 'tzname', 'utcfromtimestamp', 'utcnow', 'utcoffset', 'utctimetuple', 'weekday', 'year']\n"
     ]
    }
   ],
   "source": [
    "print(dir(datetime))"
   ]
  },
  {
   "cell_type": "code",
   "execution_count": 3,
   "metadata": {},
   "outputs": [
    {
     "name": "stdout",
     "output_type": "stream",
     "text": [
      "['__abs__', '__add__', '__bool__', '__class__', '__delattr__', '__dir__', '__divmod__', '__doc__', '__eq__', '__floordiv__', '__format__', '__ge__', '__getattribute__', '__getstate__', '__gt__', '__hash__', '__init__', '__init_subclass__', '__le__', '__lt__', '__mod__', '__mul__', '__ne__', '__neg__', '__new__', '__pos__', '__radd__', '__rdivmod__', '__reduce__', '__reduce_ex__', '__repr__', '__rfloordiv__', '__rmod__', '__rmul__', '__rsub__', '__rtruediv__', '__setattr__', '__sizeof__', '__str__', '__sub__', '__subclasshook__', '__truediv__', 'days', 'max', 'microseconds', 'min', 'resolution', 'seconds', 'total_seconds']\n"
     ]
    }
   ],
   "source": [
    "print(dir(timedelta))"
   ]
  },
  {
   "cell_type": "code",
   "execution_count": 5,
   "metadata": {},
   "outputs": [
    {
     "name": "stdout",
     "output_type": "stream",
     "text": [
      "InvalidTZPathWarning\n",
      "TZPATH\n",
      "ZoneInfo\n",
      "ZoneInfoNotFoundError\n",
      "__all__\n",
      "__builtins__\n",
      "__cached__\n",
      "__dir__\n",
      "__doc__\n",
      "__file__\n",
      "__getattr__\n",
      "__loader__\n",
      "__name__\n",
      "__package__\n",
      "__path__\n",
      "__spec__\n",
      "_common\n",
      "_tzpath\n",
      "available_timezones\n",
      "reset_tzpath\n"
     ]
    }
   ],
   "source": [
    "for cmd in dir(zoneinfo):\n",
    "    print(cmd)"
   ]
  },
  {
   "cell_type": "code",
   "execution_count": 4,
   "metadata": {},
   "outputs": [
    {
     "name": "stdout",
     "output_type": "stream",
     "text": [
      "2024-01-09 10:56:01.246296\n",
      "10:56:01.246296\n"
     ]
    }
   ],
   "source": [
    "# data -> cria um objeto com seus valores e métodos\n",
    "agora = datetime.now()\n",
    "print(agora)\n",
    "print(agora.time())"
   ]
  },
  {
   "cell_type": "code",
   "execution_count": 100,
   "metadata": {},
   "outputs": [
    {
     "data": {
      "text/plain": [
       "datetime.datetime(2023, 12, 17, 20, 37, 38, 381763)"
      ]
     },
     "execution_count": 100,
     "metadata": {},
     "output_type": "execute_result"
    }
   ],
   "source": [
    "hoje = datetime.today()\n",
    "hoje"
   ]
  },
  {
   "cell_type": "code",
   "execution_count": 92,
   "metadata": {},
   "outputs": [
    {
     "name": "stdout",
     "output_type": "stream",
     "text": [
      "2023-12-17 20:24:22.252069\n",
      "17 12 2023\n",
      "2023-12-17\n",
      "20 24 22\n",
      "20:24:22.252069\n"
     ]
    }
   ],
   "source": [
    "# valores e métodos\n",
    "print(hoje)\n",
    "print(hoje.day, hoje.month, hoje.year)\n",
    "print(hoje.date())\n",
    "print(hoje.hour, hoje.minute, hoje.second)\n",
    "print(hoje.time())"
   ]
  },
  {
   "cell_type": "code",
   "execution_count": 93,
   "metadata": {},
   "outputs": [
    {
     "name": "stdout",
     "output_type": "stream",
     "text": [
      "2023-12-18\n",
      "2023-12-24\n"
     ]
    }
   ],
   "source": [
    "# operações com datetime\n",
    "amanha = hoje + timedelta(days=1)\n",
    "print(amanha.date())\n",
    "semana = hoje + timedelta(weeks=1)\n",
    "print(semana.date())"
   ]
  },
  {
   "cell_type": "code",
   "execution_count": 94,
   "metadata": {},
   "outputs": [
    {
     "name": "stdout",
     "output_type": "stream",
     "text": [
      "2023-12-10 00:00:00 2023-12-13 00:00:00\n",
      "2023-12-10\n",
      "00:00:00\n"
     ]
    }
   ],
   "source": [
    "# criando data específica\n",
    "data_vencimento = datetime(year=2023, month=12, day=10)\n",
    "data_vencimento2 = datetime(2023, 12, 13)\n",
    "print(data_vencimento, data_vencimento2)\n",
    "print(data_vencimento.date())\n",
    "print(data_vencimento.time())"
   ]
  },
  {
   "cell_type": "code",
   "execution_count": 99,
   "metadata": {},
   "outputs": [
    {
     "name": "stdout",
     "output_type": "stream",
     "text": [
      "7 days, 20:24:22.252069\n",
      "<class 'datetime.timedelta'>\n",
      "7\n",
      "<class 'int'>\n"
     ]
    }
   ],
   "source": [
    "# Cálculos de deltas com datas e tempo\n",
    "atraso = hoje - data_vencimento\n",
    "print(atraso)\n",
    "print(type(atraso))\n",
    "print(atraso.days)\n",
    "print(type(atraso.days))"
   ]
  },
  {
   "cell_type": "code",
   "execution_count": 96,
   "metadata": {},
   "outputs": [
    {
     "name": "stdout",
     "output_type": "stream",
     "text": [
      "13/12/2023 13-12-2023\n"
     ]
    }
   ],
   "source": [
    "# tratando datas\n",
    "original = '13/12/2023'\n",
    "original2 = '13-12-2023'\n",
    "print(original, original2)"
   ]
  },
  {
   "cell_type": "code",
   "execution_count": 97,
   "metadata": {},
   "outputs": [
    {
     "name": "stdout",
     "output_type": "stream",
     "text": [
      "2023-12-13 00:00:00 2023-12-13 00:00:00\n",
      "2023-12-13\n",
      "2023\n",
      "12\n",
      "13\n",
      "Wed Dec 13 00:00:00 2023\n"
     ]
    }
   ],
   "source": [
    "# capturando a data de texto para um objeto data\n",
    "capturada = datetime.strptime(original, \"%d/%m/%Y\")\n",
    "capturada2 = datetime.strptime(original2, \"%d-%m-%Y\")\n",
    "print(capturada, capturada2)\n",
    "print(capturada.date())\n",
    "print(capturada.year)\n",
    "print(capturada.month)\n",
    "print(capturada.day)\n",
    "print(capturada.ctime())"
   ]
  },
  {
   "cell_type": "code",
   "execution_count": 98,
   "metadata": {},
   "outputs": [
    {
     "name": "stdout",
     "output_type": "stream",
     "text": [
      "2023-12-25 20:24:22.252069\n"
     ]
    }
   ],
   "source": [
    "# alterando pontualmente as informações\n",
    "data = hoje.replace(day=25)\n",
    "print(data)"
   ]
  },
  {
   "cell_type": "code",
   "execution_count": 42,
   "metadata": {},
   "outputs": [
    {
     "name": "stdout",
     "output_type": "stream",
     "text": [
      "17/12/2023\n",
      "23/12/17\n",
      "17.12.2023\n",
      "Sunday\n",
      "Sun\n",
      "2023-December\n",
      "2023-Dec\n"
     ]
    }
   ],
   "source": [
    "# formatando o objeto data para saída da data no formato desejado em string\n",
    "print(hoje.strftime('%d/%m/%Y'))\n",
    "print(hoje.strftime('%y/%m/%d'))\n",
    "print(hoje.strftime('%d.%m.%Y'))\n",
    "print(hoje.strftime('%A'))\n",
    "print(hoje.strftime('%a'))\n",
    "print(hoje.strftime('%Y-%B'))\n",
    "print(hoje.strftime('%Y-%b'))"
   ]
  },
  {
   "cell_type": "code",
   "execution_count": 84,
   "metadata": {},
   "outputs": [
    {
     "name": "stdout",
     "output_type": "stream",
     "text": [
      "Sun Dec 17 19:54:05 2023\n"
     ]
    }
   ],
   "source": [
    "# outro modo\n",
    "print(hoje.ctime())"
   ]
  },
  {
   "cell_type": "code",
   "execution_count": 49,
   "metadata": {},
   "outputs": [
    {
     "name": "stdout",
     "output_type": "stream",
     "text": [
      "2023-12-17 18:30:51.583060\n"
     ]
    }
   ],
   "source": [
    "# fuso horário na marra\n",
    "hoje = datetime.today()\n",
    "hoje = hoje - timedelta(hours=1)\n",
    "print(hoje)"
   ]
  },
  {
   "cell_type": "code",
   "execution_count": 58,
   "metadata": {},
   "outputs": [
    {
     "name": "stdout",
     "output_type": "stream",
     "text": [
      "{'Asia/Aqtobe', 'America/Goose_Bay', 'Europe/Guernsey', 'GB', 'Europe/Sarajevo', 'Pacific/Johnston', 'America/Tegucigalpa', 'Australia/North', 'Etc/GMT+2', 'America/Port_of_Spain', 'America/Guadeloupe', 'Turkey', 'Indian/Reunion', 'Asia/Kathmandu', 'Etc/GMT-10', 'America/Inuvik', 'Antarctica/Rothera', 'Europe/Busingen', 'America/Rio_Branco', 'Indian/Chagos', 'America/Lower_Princes', 'Mexico/BajaSur', 'Atlantic/Canary', 'Pacific/Galapagos', 'Pacific/Wallis', 'Asia/Pyongyang', 'America/Nome', 'America/Argentina/Tucuman', 'America/Glace_Bay', 'Atlantic/Faroe', 'America/Ciudad_Juarez', 'America/Phoenix', 'Poland', 'Antarctica/Syowa', 'Pacific/Apia', 'Asia/Khandyga', 'Asia/Yakutsk', 'Africa/Bissau', 'Asia/Nicosia', 'Europe/Belgrade', 'America/Juneau', 'Iceland', 'Europe/Vilnius', 'Asia/Phnom_Penh', 'Africa/Ndjamena', 'Canada/Mountain', 'America/Argentina/Buenos_Aires', 'Pacific/Nauru', 'America/Curacao', 'Pacific/Kwajalein', 'Asia/Irkutsk', 'Asia/Taipei', 'Europe/Kiev', 'America/Guayaquil', 'America/Argentina/Ushuaia', 'Europe/Berlin', 'ROK', 'Pacific/Kanton', 'Africa/Kigali', 'America/Caracas', 'Europe/Bratislava', 'America/La_Paz', 'CST6CDT', 'America/Nassau', 'Etc/GMT-8', 'Indian/Antananarivo', 'America/Pangnirtung', 'America/Chicago', 'Asia/Macao', 'Navajo', 'Brazil/East', 'PST8PDT', 'America/Denver', 'Antarctica/South_Pole', 'Asia/Tehran', 'Etc/GMT+12', 'America/Adak', 'Australia/Perth', 'Greenwich', 'Pacific/Pitcairn', 'Asia/Ulaanbaatar', 'Australia/ACT', 'Africa/Casablanca', 'America/Recife', 'America/Rankin_Inlet', 'Asia/Ujung_Pandang', 'America/Aruba', 'Asia/Thimphu', 'America/Martinique', 'Africa/Tripoli', 'Asia/Jerusalem', 'Mexico/BajaNorte', 'Pacific/Truk', 'Atlantic/Madeira', 'America/Los_Angeles', 'ROC', 'Antarctica/Casey', 'America/Santiago', 'America/Indiana/Marengo', 'America/Argentina/Jujuy', 'America/Anguilla', 'America/Maceio', 'America/Halifax', 'Europe/Malta', 'Asia/Hong_Kong', 'UCT', 'America/Kralendijk', 'America/North_Dakota/New_Salem', 'Africa/Brazzaville', 'Asia/Dushanbe', 'Europe/Mariehamn', 'Australia/Darwin', 'America/Bahia', 'Australia/Lord_Howe', 'America/Resolute', 'Libya', 'Pacific/Easter', 'Singapore', 'Asia/Ashkhabad', 'Antarctica/Troll', 'America/Belem', 'Etc/GMT+1', 'Indian/Kerguelen', 'Asia/Krasnoyarsk', 'Atlantic/Bermuda', 'Asia/Tbilisi', 'Canada/Saskatchewan', 'America/Godthab', 'America/Argentina/Cordoba', 'Pacific/Samoa', 'America/Grenada', 'Asia/Karachi', 'Iran', 'America/Argentina/San_Luis', 'Universal', 'Australia/Melbourne', 'Asia/Choibalsan', 'Asia/Kuching', 'America/Puerto_Rico', 'Europe/Belfast', 'Asia/Vladivostok', 'Africa/Khartoum', 'Etc/GMT+8', 'Etc/Zulu', 'Asia/Baku', 'Hongkong', 'PRC', 'Asia/Saigon', 'America/Yakutat', 'America/Santa_Isabel', 'America/Bahia_Banderas', 'Europe/Zagreb', 'GMT-0', 'CET', 'Europe/Bucharest', 'Pacific/Marquesas', 'Chile/EasterIsland', 'HST', 'America/Creston', 'America/Sao_Paulo', 'America/Costa_Rica', 'America/Scoresbysund', 'Cuba', 'Portugal', 'Africa/Freetown', 'Africa/Libreville', 'Africa/Nairobi', 'Etc/GMT-5', 'Asia/Makassar', 'America/Indianapolis', 'Africa/Conakry', 'GMT0', 'Europe/Skopje', 'Europe/Minsk', 'Asia/Tel_Aviv', 'MST7MDT', 'Asia/Thimbu', 'Africa/Ceuta', 'America/Catamarca', 'Europe/Riga', 'Asia/Yekaterinburg', 'Europe/Moscow', 'Pacific/Guadalcanal', 'America/Managua', 'Europe/Stockholm', 'Antarctica/Palmer', 'EST', 'US/Hawaii', 'America/Port-au-Prince', 'Asia/Kashgar', 'America/Merida', 'Australia/LHI', 'Pacific/Auckland', 'Zulu', 'Africa/Gaborone', 'America/Nipigon', 'Asia/Dubai', 'America/Panama', 'Etc/GMT+3', 'Europe/Kaliningrad', 'America/Cuiaba', 'Africa/Accra', 'Pacific/Tarawa', 'America/Rosario', 'America/Argentina/Salta', 'America/Virgin', 'Etc/GMT-13', 'Asia/Chongqing', 'Antarctica/Macquarie', 'Europe/Amsterdam', 'Pacific/Norfolk', 'America/Vancouver', 'Australia/Queensland', 'Atlantic/Stanley', 'Etc/GMT+7', 'Europe/Podgorica', 'America/Miquelon', 'America/Fort_Wayne', 'Asia/Rangoon', 'America/Asuncion', 'Europe/Copenhagen', 'Europe/Luxembourg', 'Australia/Canberra', 'Atlantic/Jan_Mayen', 'Europe/Budapest', 'Etc/GMT-7', 'Indian/Mauritius', 'Antarctica/Mawson', 'Asia/Istanbul', 'GMT', 'America/Bogota', 'Antarctica/DumontDUrville', 'America/Detroit', 'Pacific/Chuuk', 'Asia/Manila', 'America/Eirunepe', 'America/Guyana', 'America/New_York', 'Asia/Shanghai', 'Pacific/Majuro', 'Asia/Yerevan', 'Australia/Broken_Hill', 'Europe/Warsaw', 'Etc/GMT+10', 'Etc/GMT-0', 'Canada/Pacific', 'America/Indiana/Knox', 'Australia/Currie', 'Pacific/Fiji', 'Asia/Chungking', 'America/Argentina/Catamarca', 'America/Blanc-Sablon', 'America/Punta_Arenas', 'America/Havana', 'America/Lima', 'Africa/Bujumbura', 'America/Argentina/Rio_Gallegos', 'Pacific/Midway', 'Jamaica', 'America/Cambridge_Bay', 'Indian/Maldives', 'Canada/Newfoundland', 'Pacific/Efate', 'America/Sitka', 'Australia/South', 'America/St_Thomas', 'Asia/Riyadh', 'US/Central', 'Asia/Pontianak', 'America/Thunder_Bay', 'America/Dawson', 'Etc/GMT+9', 'Pacific/Saipan', 'America/Santo_Domingo', 'Africa/Algiers', 'US/Eastern', 'America/Fortaleza', 'Asia/Kuwait', 'America/Cayenne', 'Africa/Luanda', 'America/Indiana/Indianapolis', 'Asia/Tashkent', 'Asia/Barnaul', 'Asia/Ho_Chi_Minh', 'WET', 'Africa/Cairo', 'Pacific/Bougainville', 'America/Toronto', 'America/Winnipeg', 'Etc/Universal', 'Brazil/West', 'America/North_Dakota/Beulah', 'Asia/Srednekolymsk', 'America/Swift_Current', 'America/Ensenada', 'Antarctica/McMurdo', 'Indian/Cocos', 'Asia/Magadan', 'America/St_Johns', 'Europe/Nicosia', 'Etc/UTC', 'Japan', 'Africa/Monrovia', 'Arctic/Longyearbyen', 'Asia/Damascus', 'Africa/Lusaka', 'Asia/Anadyr', 'Europe/Rome', 'Etc/GMT+0', 'Asia/Kabul', 'America/Shiprock', 'America/Boise', 'America/El_Salvador', 'Etc/GMT', 'Pacific/Noumea', 'NZ-CHAT', 'Etc/GMT-1', 'America/Kentucky/Louisville', 'Asia/Ashgabat', 'Europe/Tallinn', 'Atlantic/Faeroe', 'GMT+0', 'US/Samoa', 'America/Cayman', 'Etc/GMT-4', 'Africa/Harare', 'Asia/Seoul', 'Europe/Kirov', 'Etc/GMT-6', 'Canada/Yukon', 'America/Coral_Harbour', 'Australia/NSW', 'America/Tortola', 'Asia/Calcutta', 'America/Thule', 'Africa/Blantyre', 'Asia/Singapore', 'America/Rainy_River', 'Australia/Victoria', 'Atlantic/Azores', 'Europe/Monaco', 'Africa/Ouagadougou', 'Asia/Dili', 'Europe/Isle_of_Man', 'Europe/Istanbul', 'Asia/Aden', 'Asia/Kuala_Lumpur', 'Africa/Djibouti', 'Europe/Ljubljana', 'America/Yellowknife', 'Africa/Lubumbashi', 'Europe/San_Marino', 'Asia/Macau', 'Europe/Jersey', 'America/Paramaribo', 'Canada/Eastern', 'Europe/Volgograd', 'Mexico/General', 'America/St_Kitts', 'Pacific/Pago_Pago', 'Pacific/Honolulu', 'EST5EDT', 'America/Montreal', 'US/Aleutian', 'Africa/Dar_es_Salaam', 'America/Noronha', 'Asia/Novokuznetsk', 'Europe/Ulyanovsk', 'America/Whitehorse', 'Asia/Urumqi', 'Australia/Tasmania', 'Africa/Lome', 'America/Belize', 'Africa/Timbuktu', 'Africa/Nouakchott', 'Africa/Asmara', 'Asia/Chita', 'Africa/El_Aaiun', 'America/North_Dakota/Center', 'Australia/West', 'America/St_Vincent', 'Etc/Greenwich', 'Asia/Brunei', 'Asia/Jayapura', 'Africa/Dakar', 'Europe/Madrid', 'Asia/Sakhalin', 'America/Montevideo', 'Europe/Tiraspol', 'America/Dominica', 'Australia/Yancowinna', 'America/Campo_Grande', 'Etc/GMT-9', 'Etc/GMT+4', 'Asia/Muscat', 'America/Mazatlan', 'Europe/Sofia', 'America/Mexico_City', 'Israel', 'Atlantic/Cape_Verde', 'US/East-Indiana', 'Asia/Hebron', 'America/Buenos_Aires', 'Asia/Amman', 'Africa/Kampala', 'America/Hermosillo', 'Africa/Asmera', 'America/Dawson_Creek', 'Africa/Porto-Novo', 'Etc/GMT-3', 'Africa/Tunis', 'Pacific/Niue', 'Europe/Paris', 'Europe/Zaporozhye', 'America/Grand_Turk', 'W-SU', 'America/Atka', 'Africa/Banjul', 'America/Montserrat', 'Australia/Sydney', 'Pacific/Port_Moresby', 'Asia/Bishkek', 'Africa/Douala', 'Canada/Central', 'America/Moncton', 'Pacific/Enderbury', 'Africa/Niamey', 'Atlantic/St_Helena', 'Africa/Malabo', 'Africa/Kinshasa', 'Indian/Mahe', 'Europe/Brussels', 'America/Kentucky/Monticello', 'Africa/Bamako', 'Asia/Qyzylorda', 'UTC', 'Australia/Hobart', 'Europe/Vaduz', 'Asia/Tokyo', 'US/Alaska', 'Africa/Johannesburg', 'Pacific/Chatham', 'Brazil/Acre', 'Asia/Ulan_Bator', 'Europe/Gibraltar', 'America/Knox_IN', 'Europe/Lisbon', 'Pacific/Yap', 'Asia/Hovd', 'Africa/Bangui', 'Asia/Samarkand', 'America/Atikokan', 'America/Argentina/ComodRivadavia', 'Asia/Vientiane', 'America/Araguaina', 'Pacific/Rarotonga', 'Asia/Qostanay', 'America/Manaus', 'Africa/Mogadishu', 'Europe/Samara', 'America/Jujuy', 'America/Indiana/Vincennes', 'America/Indiana/Tell_City', 'America/Boa_Vista', 'America/Antigua', 'Pacific/Palau', 'America/Jamaica', 'Etc/GMT-11', 'Chile/Continental', 'Pacific/Pohnpei', 'US/Michigan', 'Pacific/Kosrae', 'America/Metlakatla', 'Antarctica/Davis', 'America/Guatemala', 'Asia/Bangkok', 'MST', 'Atlantic/South_Georgia', 'Europe/Tirane', 'Europe/Andorra', 'Europe/Vatican', 'Europe/Vienna', 'Asia/Famagusta', 'Australia/Adelaide', 'Africa/Windhoek', 'Australia/Brisbane', 'Asia/Tomsk', 'Australia/Eucla', 'Etc/GMT-2', 'Indian/Christmas', 'America/Iqaluit', 'Asia/Aqtau', 'Europe/Oslo', 'Asia/Bahrain', 'Brazil/DeNoronha', 'Africa/Abidjan', 'America/St_Barthelemy', 'Africa/Maputo', 'Asia/Dhaka', 'Europe/Chisinau', 'Pacific/Ponape', 'Europe/Astrakhan', 'Africa/Mbabane', 'Pacific/Guam', 'Factory', 'America/Louisville', 'America/Edmonton', 'Europe/Prague', 'Eire', 'Asia/Atyrau', 'GB-Eire', 'America/Cordoba', 'US/Pacific', 'Africa/Sao_Tome', 'Asia/Gaza', 'Pacific/Tongatapu', 'Pacific/Gambier', 'Etc/GMT+5', 'Asia/Kolkata', 'America/Argentina/San_Juan', 'America/Ojinaga', 'Indian/Comoro', 'Asia/Beirut', 'America/St_Lucia', 'Asia/Omsk', 'Asia/Harbin', 'America/Chihuahua', 'America/Mendoza', 'Europe/Athens', 'America/Indiana/Vevay', 'Pacific/Tahiti', 'Asia/Almaty', 'Asia/Yangon', 'US/Indiana-Starke', 'America/Marigot', 'Egypt', 'America/Indiana/Winamac', 'America/Porto_Velho', 'Africa/Addis_Ababa', 'Europe/Simferopol', 'America/Danmarkshavn', 'America/Porto_Acre', 'Asia/Novosibirsk', 'Asia/Baghdad', 'Europe/Kyiv', 'America/Monterrey', 'Asia/Colombo', 'Canada/Atlantic', 'Asia/Katmandu', 'America/Santarem', 'Atlantic/Reykjavik', 'America/Menominee', 'America/Fort_Nelson', 'EET', 'America/Matamoros', 'Europe/London', 'Africa/Maseru', 'Asia/Jakarta', 'Europe/Uzhgorod', 'Etc/GMT0', 'Pacific/Kiritimati', 'Etc/GMT+6', 'Asia/Dacca', 'US/Mountain', 'Europe/Helsinki', 'America/Tijuana', 'MET', 'NZ', 'America/Argentina/Mendoza', 'America/Nuuk', 'Etc/GMT+11', 'America/Anchorage', 'Australia/Lindeman', 'Africa/Lagos', 'Asia/Qatar', 'Etc/UCT', 'America/Barbados', 'America/Argentina/La_Rioja', 'Africa/Juba', 'Europe/Saratov', 'US/Arizona', 'Antarctica/Vostok', 'Asia/Oral', 'Kwajalein', 'Europe/Dublin', 'Asia/Kamchatka', 'America/Indiana/Petersburg', 'Etc/GMT-14', 'Asia/Ust-Nera', 'Etc/GMT-12', 'Pacific/Wake', 'Europe/Zurich', 'America/Cancun', 'Indian/Mayotte', 'Pacific/Funafuti', 'Pacific/Fakaofo', 'America/Regina'}\n"
     ]
    }
   ],
   "source": [
    "print(zoneinfo.available_timezones())"
   ]
  },
  {
   "cell_type": "code",
   "execution_count": 77,
   "metadata": {},
   "outputs": [
    {
     "name": "stdout",
     "output_type": "stream",
     "text": [
      "Europe/Lisbon\n"
     ]
    }
   ],
   "source": [
    "for time in zoneinfo.available_timezones():\n",
    "    if time.startswith('Europe/Lisbon'):\n",
    "        print(time)"
   ]
  },
  {
   "cell_type": "code",
   "execution_count": 80,
   "metadata": {},
   "outputs": [
    {
     "name": "stdout",
     "output_type": "stream",
     "text": [
      "2023-12-17 22:54:05.993269+00:00\n"
     ]
    }
   ],
   "source": [
    "zona = zoneinfo.ZoneInfo('Europe/Lisbon')\n",
    "lisboa = hoje.astimezone(zona)\n",
    "print(lisboa)"
   ]
  },
  {
   "cell_type": "markdown",
   "metadata": {},
   "source": [
    "#### Aplicação no registro de logs de atualizações ou operações"
   ]
  },
  {
   "cell_type": "code",
   "execution_count": 113,
   "metadata": {},
   "outputs": [],
   "source": [
    "registros = []\n",
    "\n",
    "reg = None\n",
    "\n",
    "while reg != '':\n",
    "    reg = input('Digite seu comentário: ')\n",
    "    time = datetime.now()\n",
    "    registros.append((time, reg))     # em tupla pq ela é imutável\n"
   ]
  },
  {
   "cell_type": "code",
   "execution_count": 115,
   "metadata": {},
   "outputs": [
    {
     "name": "stdout",
     "output_type": "stream",
     "text": [
      "2023-12-17 20:57:26.539668\n",
      ">>> olá\n",
      "2023-12-17 20:57:31.216378\n",
      ">>> tudo bem?\n",
      "2023-12-17 20:57:35.771307\n",
      ">>> login\n",
      "2023-12-17 20:57:42.383594\n",
      ">>> aprovado\n",
      "2023-12-17 20:57:45.680306\n",
      ">>> pesquisa\n",
      "2023-12-17 20:57:50.121782\n",
      ">>> resposta\n",
      "2023-12-17 20:57:54.935473\n",
      ">>> logout\n"
     ]
    }
   ],
   "source": [
    "for reg in registros[:-1]:\n",
    "    print(reg[0], '>>> '+ reg[1], sep='\\n')\n"
   ]
  }
 ],
 "metadata": {
  "kernelspec": {
   "display_name": "Python 3",
   "language": "python",
   "name": "python3"
  },
  "language_info": {
   "codemirror_mode": {
    "name": "ipython",
    "version": 3
   },
   "file_extension": ".py",
   "mimetype": "text/x-python",
   "name": "python",
   "nbconvert_exporter": "python",
   "pygments_lexer": "ipython3",
   "version": "3.12.1"
  }
 },
 "nbformat": 4,
 "nbformat_minor": 2
}

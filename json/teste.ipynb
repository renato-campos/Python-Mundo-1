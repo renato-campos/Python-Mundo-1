{
 "cells": [
  {
   "cell_type": "code",
   "execution_count": 1,
   "metadata": {},
   "outputs": [],
   "source": [
    "import json\n",
    "import pandas as pd"
   ]
  },
  {
   "cell_type": "code",
   "execution_count": 25,
   "metadata": {},
   "outputs": [
    {
     "data": {
      "text/plain": [
       "{'address': {'city': 'Somewhere',\n",
       "  'postal_code': '12345',\n",
       "  'street': '123 Elm Street'},\n",
       " 'age': 30,\n",
       " 'children': [{'age': 10, 'name': 'Jane'}, {'age': 8, 'name': 'Jack'}],\n",
       " 'name': 'John',\n",
       " 'phone_numbers': ['123-456-7890', '987-654-3210']}"
      ]
     },
     "execution_count": 25,
     "metadata": {},
     "output_type": "execute_result"
    }
   ],
   "source": [
    "with open(r'D:\\Projetos\\Python-learning\\json\\data.json') as arq_json:\n",
    "    meu_json = json.load(arq_json)\n",
    "meu_json"
   ]
  },
  {
   "cell_type": "code",
   "execution_count": 9,
   "metadata": {},
   "outputs": [
    {
     "data": {
      "text/plain": [
       "dict"
      ]
     },
     "execution_count": 9,
     "metadata": {},
     "output_type": "execute_result"
    }
   ],
   "source": [
    "type(meu_json)"
   ]
  },
  {
   "cell_type": "code",
   "execution_count": 14,
   "metadata": {},
   "outputs": [
    {
     "name": "stdout",
     "output_type": "stream",
     "text": [
      "{'city': 'Somewhere', 'postal_code': '12345', 'street': '123 Elm Street'}\n",
      "12345\n"
     ]
    }
   ],
   "source": [
    "print(meu_json['address'])\n",
    "print(meu_json['address']['postal_code'])"
   ]
  },
  {
   "cell_type": "code",
   "execution_count": 15,
   "metadata": {},
   "outputs": [
    {
     "data": {
      "text/plain": [
       "dict_keys(['address', 'age', 'children', 'name', 'phone_numbers'])"
      ]
     },
     "execution_count": 15,
     "metadata": {},
     "output_type": "execute_result"
    }
   ],
   "source": [
    "meu_json.keys()"
   ]
  },
  {
   "cell_type": "code",
   "execution_count": 22,
   "metadata": {},
   "outputs": [
    {
     "name": "stdout",
     "output_type": "stream",
     "text": [
      "[{'age': 10, 'name': 'Jane'}, {'age': 8, 'name': 'Jack'}]\n",
      "{'age': 8, 'name': 'Jack'}\n",
      "Jack\n"
     ]
    }
   ],
   "source": [
    "print(meu_json['children'])\n",
    "print(meu_json['children'][1])\n",
    "print(meu_json['children'][1]['name'])"
   ]
  },
  {
   "cell_type": "code",
   "execution_count": 26,
   "metadata": {},
   "outputs": [
    {
     "data": {
      "text/plain": [
       "[{'age': 10, 'name': 'Jane'}]"
      ]
     },
     "execution_count": 26,
     "metadata": {},
     "output_type": "execute_result"
    }
   ],
   "source": [
    "del meu_json['children'][1]\n",
    "meu_json['children']"
   ]
  },
  {
   "cell_type": "code",
   "execution_count": 27,
   "metadata": {},
   "outputs": [
    {
     "name": "stderr",
     "output_type": "stream",
     "text": [
      "<>:1: SyntaxWarning: invalid escape sequence '\\P'\n",
      "<>:1: SyntaxWarning: invalid escape sequence '\\P'\n",
      "C:\\Users\\renat\\AppData\\Local\\Temp\\ipykernel_21440\\1324853880.py:1: SyntaxWarning: invalid escape sequence '\\P'\n",
      "  with open('D:\\Projetos\\Python-learning\\json\\data1.json', 'w') as arq2:\n"
     ]
    }
   ],
   "source": [
    "with open(r'D:\\Projetos\\Python-learning\\json\\data1.json', 'w') as arq2:\n",
    "    json.dump(meu_json, arq2)"
   ]
  },
  {
   "cell_type": "code",
   "execution_count": 28,
   "metadata": {},
   "outputs": [],
   "source": [
    "with open(r'D:\\Projetos\\Python-learning\\json\\data2.json', 'w') as arq2:\n",
    "    json.dump(meu_json, arq2, indent=4)"
   ]
  }
 ],
 "metadata": {
  "kernelspec": {
   "display_name": "Python 3",
   "language": "python",
   "name": "python3"
  },
  "language_info": {
   "codemirror_mode": {
    "name": "ipython",
    "version": 3
   },
   "file_extension": ".py",
   "mimetype": "text/x-python",
   "name": "python",
   "nbconvert_exporter": "python",
   "pygments_lexer": "ipython3",
   "version": "3.12.4"
  }
 },
 "nbformat": 4,
 "nbformat_minor": 2
}
